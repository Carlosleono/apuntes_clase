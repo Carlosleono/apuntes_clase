{
 "cells": [
  {
   "cell_type": "markdown",
   "id": "tribal-director",
   "metadata": {},
   "source": [
    "# List Comprehensions"
   ]
  },
  {
   "cell_type": "markdown",
   "id": "ambient-dodge",
   "metadata": {},
   "source": [
    "![elgif](https://media.giphy.com/media/8vZY0QZZjJZqmfResk/giphy.gif)"
   ]
  },
  {
   "cell_type": "markdown",
   "id": "binding-sperm",
   "metadata": {},
   "source": [
    "## Pero... ¿Esto qué es?\n",
    "Las compresiones de listas son una herramienta muy poderosa, que crea una lista basada en otra, en una única linea legible."
   ]
  },
  {
   "cell_type": "code",
   "execution_count": 1,
   "id": "velvet-madonna",
   "metadata": {},
   "outputs": [],
   "source": [
    "palabras = [\"palabras\", \"hola\", \"clase\", \"ironhack\", \"paseo de la chopera\", \"francachela\"]"
   ]
  },
  {
   "cell_type": "markdown",
   "id": "cordless-concentration",
   "metadata": {},
   "source": [
    "Si quisiéramos tener una lista igual que esta pero con todas las palabras en mayúsculas utilizando un bucle...."
   ]
  },
  {
   "cell_type": "code",
   "execution_count": 2,
   "id": "productive-panel",
   "metadata": {},
   "outputs": [],
   "source": [
    "# clásico\n",
    "mayus = []\n",
    "for p in palabras:\n",
    "    mayus.append(p.upper())"
   ]
  },
  {
   "cell_type": "code",
   "execution_count": 3,
   "id": "measured-diving",
   "metadata": {},
   "outputs": [
    {
     "data": {
      "text/plain": [
       "['PALABRAS', 'HOLA', 'CLASE', 'IRONHACK', 'PASEO DE LA CHOPERA', 'FRANCACHELA']"
      ]
     },
     "execution_count": 3,
     "metadata": {},
     "output_type": "execute_result"
    }
   ],
   "source": [
    "mayus"
   ]
  },
  {
   "cell_type": "markdown",
   "id": "gross-boxing",
   "metadata": {},
   "source": [
    "¿Cómo podemos hacerlo con comprehension list?"
   ]
  },
  {
   "cell_type": "markdown",
   "id": "third-policy",
   "metadata": {},
   "source": [
    "![imagen_compr](https://stsewd.dev/charla-comprension-de-listas/img/listComprehensions.gif)"
   ]
  },
  {
   "cell_type": "code",
   "execution_count": 4,
   "id": "coupled-headset",
   "metadata": {},
   "outputs": [],
   "source": [
    "lista_mayus = [palabra.upper() for palabra in palabras]"
   ]
  },
  {
   "cell_type": "code",
   "execution_count": 5,
   "id": "developing-franklin",
   "metadata": {},
   "outputs": [
    {
     "data": {
      "text/plain": [
       "['PALABRAS', 'HOLA', 'CLASE', 'IRONHACK', 'PASEO DE LA CHOPERA', 'FRANCACHELA']"
      ]
     },
     "execution_count": 5,
     "metadata": {},
     "output_type": "execute_result"
    }
   ],
   "source": [
    "lista_mayus"
   ]
  },
  {
   "cell_type": "markdown",
   "id": "magnetic-virtue",
   "metadata": {},
   "source": [
    "## Retito fácil 🤔\n",
    "Queremos una lista que contenga los cuadrados de los números del 1 al 10."
   ]
  },
  {
   "cell_type": "code",
   "execution_count": 6,
   "id": "surprised-function",
   "metadata": {},
   "outputs": [],
   "source": [
    "# Bucle For normal\n",
    "cuadrados = []\n",
    "for n in range(1,11):\n",
    "    sq = n ** 2\n",
    "    cuadrados.append(sq)"
   ]
  },
  {
   "cell_type": "code",
   "execution_count": 7,
   "id": "unlikely-channels",
   "metadata": {},
   "outputs": [
    {
     "data": {
      "text/plain": [
       "[1, 4, 9, 16, 25, 36, 49, 64, 81, 100]"
      ]
     },
     "execution_count": 7,
     "metadata": {},
     "output_type": "execute_result"
    }
   ],
   "source": [
    "cuadrados"
   ]
  },
  {
   "cell_type": "code",
   "execution_count": 8,
   "id": "focal-framework",
   "metadata": {},
   "outputs": [],
   "source": [
    "# Comprehension list\n",
    "cuadrados_comp = [n ** 2 for n in range(1,11)]"
   ]
  },
  {
   "cell_type": "code",
   "execution_count": 9,
   "id": "russian-domain",
   "metadata": {},
   "outputs": [
    {
     "data": {
      "text/plain": [
       "[1, 4, 9, 16, 25, 36, 49, 64, 81, 100]"
      ]
     },
     "execution_count": 9,
     "metadata": {},
     "output_type": "execute_result"
    }
   ],
   "source": [
    "cuadrados_comp"
   ]
  },
  {
   "cell_type": "markdown",
   "id": "complimentary-fruit",
   "metadata": {},
   "source": [
    "## Ventajas\n",
    "Al comprender la lista:  \n",
    " * no necesitamos una lista vacía para empezar\n",
    " * no utilizamos el método `.append`."
   ]
  },
  {
   "cell_type": "markdown",
   "id": "permanent-career",
   "metadata": {},
   "source": [
    "## Retito fácil 🤔\n",
    "Crea una nueva lista, sustituyendo las \"a\" por las \"e\" en cada palabra de la lista original `palabras`."
   ]
  },
  {
   "cell_type": "code",
   "execution_count": 11,
   "id": "considered-nudist",
   "metadata": {},
   "outputs": [],
   "source": [
    "# Clásico\n",
    "vacia = []\n",
    "for palabra in palabras:\n",
    "    vacia.append(palabra.replace(\"a\",\"e\"))"
   ]
  },
  {
   "cell_type": "code",
   "execution_count": 12,
   "id": "focal-electron",
   "metadata": {},
   "outputs": [
    {
     "data": {
      "text/plain": [
       "['pelebres', 'hole', 'clese', 'ironheck', 'peseo de le chopere', 'frencechele']"
      ]
     },
     "execution_count": 12,
     "metadata": {},
     "output_type": "execute_result"
    }
   ],
   "source": [
    "vacia"
   ]
  },
  {
   "cell_type": "code",
   "execution_count": 13,
   "id": "bibliographic-picnic",
   "metadata": {},
   "outputs": [],
   "source": [
    "# Comprehension\n",
    "cambiadas = [palabra.replace(\"a\", \"e\") for palabra in palabras]"
   ]
  },
  {
   "cell_type": "code",
   "execution_count": 14,
   "id": "acceptable-auckland",
   "metadata": {},
   "outputs": [
    {
     "data": {
      "text/plain": [
       "['pelebres', 'hole', 'clese', 'ironheck', 'peseo de le chopere', 'frencechele']"
      ]
     },
     "execution_count": 14,
     "metadata": {},
     "output_type": "execute_result"
    }
   ],
   "source": [
    "cambiadas"
   ]
  },
  {
   "cell_type": "markdown",
   "id": "beneficial-blackjack",
   "metadata": {},
   "source": [
    "## Condiciones (metemos IF en la comprensión)"
   ]
  },
  {
   "cell_type": "markdown",
   "id": "worthy-major",
   "metadata": {},
   "source": [
    "<img width=600 src=\"https://www.mrdbourke.com/content/images/2019/09/python-list-comprehension-article.png\">"
   ]
  },
  {
   "cell_type": "markdown",
   "id": "operational-wings",
   "metadata": {},
   "source": [
    "## Retito fácil 🤔\n",
    "Queremos una nueva lista con palabras de más de 5 caracteres."
   ]
  },
  {
   "cell_type": "code",
   "execution_count": 15,
   "id": "invalid-variation",
   "metadata": {},
   "outputs": [],
   "source": [
    "# Clásico\n",
    "masde5 = []\n",
    "for palabra in palabras:\n",
    "    if len(palabra) > 5:\n",
    "        masde5.append(palabra)"
   ]
  },
  {
   "cell_type": "code",
   "execution_count": 16,
   "id": "alien-rocket",
   "metadata": {},
   "outputs": [
    {
     "data": {
      "text/plain": [
       "['palabras', 'ironhack', 'paseo de la chopera', 'francachela']"
      ]
     },
     "execution_count": 16,
     "metadata": {},
     "output_type": "execute_result"
    }
   ],
   "source": [
    "masde5"
   ]
  },
  {
   "cell_type": "code",
   "execution_count": 21,
   "id": "listed-fireplace",
   "metadata": {},
   "outputs": [],
   "source": [
    "# Comprehension\n",
    "masde5_comp = [palabra.upper() for palabra in palabras if len(palabra) > 5]"
   ]
  },
  {
   "cell_type": "code",
   "execution_count": 22,
   "id": "normal-mexican",
   "metadata": {},
   "outputs": [
    {
     "data": {
      "text/plain": [
       "['PALABRAS', 'IRONHACK', 'PASEO DE LA CHOPERA', 'FRANCACHELA']"
      ]
     },
     "execution_count": 22,
     "metadata": {},
     "output_type": "execute_result"
    }
   ],
   "source": [
    "masde5_comp"
   ]
  },
  {
   "cell_type": "code",
   "execution_count": 27,
   "id": "tested-mounting",
   "metadata": {},
   "outputs": [
    {
     "data": {
      "text/plain": [
       "['palabras', 'ironhack', 'paseo de la chopera', 'francachela']"
      ]
     },
     "execution_count": 27,
     "metadata": {},
     "output_type": "execute_result"
    }
   ],
   "source": [
    "palabras = [\"palabras\", \"hola\", \"clase\", \"ironhack\", \"paseo de la chopera\", \"francachela\"]\n",
    "masde5 = []\n",
    "for p in palabras:\n",
    "    if len(p) > 5:\n",
    "        masde5.append(p)\n",
    "masde5"
   ]
  },
  {
   "cell_type": "code",
   "execution_count": 25,
   "id": "functioning-chapel",
   "metadata": {},
   "outputs": [
    {
     "data": {
      "text/plain": [
       "['palabras', 'ironhack', 'paseo de la chopera', 'francachela']"
      ]
     },
     "execution_count": 25,
     "metadata": {},
     "output_type": "execute_result"
    }
   ],
   "source": [
    "p_comp = [p for p in palabras if len(p) > 5]\n",
    "p_comp"
   ]
  },
  {
   "cell_type": "code",
   "execution_count": 28,
   "id": "abroad-adams",
   "metadata": {},
   "outputs": [],
   "source": [
    "p_join = \" \".join([p for p in palabras if len(p) > 5])"
   ]
  },
  {
   "cell_type": "code",
   "execution_count": 32,
   "id": "ambient-absence",
   "metadata": {},
   "outputs": [
    {
     "data": {
      "text/plain": [
       "'palabras hola clase ironhack paseo de la chopera francachela'"
      ]
     },
     "execution_count": 32,
     "metadata": {},
     "output_type": "execute_result"
    }
   ],
   "source": [
    "\" \".join(palabras)"
   ]
  },
  {
   "cell_type": "code",
   "execution_count": 33,
   "id": "spread-preserve",
   "metadata": {},
   "outputs": [
    {
     "data": {
      "text/plain": [
       "'PALABRAS HOLA CLASE IRONHACK PASEO DE LA CHOPERA FRANCACHELA'"
      ]
     },
     "execution_count": 33,
     "metadata": {},
     "output_type": "execute_result"
    }
   ],
   "source": [
    "\" \".join([p.upper() for p in palabras])"
   ]
  },
  {
   "cell_type": "code",
   "execution_count": 29,
   "id": "stainless-armenia",
   "metadata": {},
   "outputs": [
    {
     "data": {
      "text/plain": [
       "str"
      ]
     },
     "execution_count": 29,
     "metadata": {},
     "output_type": "execute_result"
    }
   ],
   "source": [
    "type(p_join)"
   ]
  },
  {
   "cell_type": "code",
   "execution_count": 30,
   "id": "regulated-video",
   "metadata": {},
   "outputs": [
    {
     "data": {
      "text/plain": [
       "'palabras ironhack paseo de la chopera francachela'"
      ]
     },
     "execution_count": 30,
     "metadata": {},
     "output_type": "execute_result"
    }
   ],
   "source": [
    "p_join"
   ]
  },
  {
   "cell_type": "markdown",
   "id": "material-ozone",
   "metadata": {},
   "source": [
    "## If / Else en comprehension\n",
    "Puedes incluir una sentencia else con un bloque de código que se implemente si la condición es falsa."
   ]
  },
  {
   "cell_type": "code",
   "execution_count": 34,
   "id": "fossil-evolution",
   "metadata": {},
   "outputs": [],
   "source": [
    "nums = [1,3,45,67,8,54,2,45,78,9,4,67,6]"
   ]
  },
  {
   "cell_type": "code",
   "execution_count": null,
   "id": "polar-referral",
   "metadata": {},
   "outputs": [],
   "source": [
    "#Ejemplo\n",
    "#Creamos una lista nueva con el número multiplicado por 2 si es par y con la palabra \"impar\" si es impar"
   ]
  },
  {
   "cell_type": "markdown",
   "id": "shaped-balance",
   "metadata": {},
   "source": [
    "Cuidado con la sintaxis, en este caso va a cambiar, la sintaxis de la comprehension será:      \n",
    "`[elemento if / else for elemento in loquesea]`"
   ]
  },
  {
   "cell_type": "code",
   "execution_count": 35,
   "id": "periodic-florida",
   "metadata": {},
   "outputs": [],
   "source": [
    "creamos = [num * 2 if num % 2 == 0 else \"impar\" for num in nums]"
   ]
  },
  {
   "cell_type": "code",
   "execution_count": 37,
   "id": "naked-business",
   "metadata": {},
   "outputs": [
    {
     "name": "stdout",
     "output_type": "stream",
     "text": [
      "['impar', 'impar', 'impar', 'impar', 16, 108, 4, 'impar', 156, 'impar', 8, 'impar', 12]\n"
     ]
    }
   ],
   "source": [
    "print(creamos)"
   ]
  },
  {
   "cell_type": "markdown",
   "id": "social-brush",
   "metadata": {},
   "source": [
    "## Comprensión de listas dobles"
   ]
  },
  {
   "cell_type": "markdown",
   "id": "previous-mambo",
   "metadata": {},
   "source": [
    "Somos 3 amigas. Queremos visitar 3 países.  \n",
    "Crea una lista de cadenas, que contenga todas las posibilidades de \"nombre ama país\""
   ]
  },
  {
   "cell_type": "code",
   "execution_count": 39,
   "id": "noble-ratio",
   "metadata": {},
   "outputs": [],
   "source": [
    "amigas = [\"Sonia\", \"Ras\", \"Ana\"]\n",
    "paises = [\"Tailandia\", \"India\", \"Japón\"]"
   ]
  },
  {
   "cell_type": "code",
   "execution_count": 40,
   "id": "narrow-viking",
   "metadata": {},
   "outputs": [],
   "source": [
    "# Bucle clásico\n",
    "lista_super = []\n",
    "for a in amigas:\n",
    "    for p in paises:\n",
    "        lista_super.append(f\"{a} ama {p}\")"
   ]
  },
  {
   "cell_type": "code",
   "execution_count": 41,
   "id": "amazing-district",
   "metadata": {},
   "outputs": [
    {
     "data": {
      "text/plain": [
       "['Sonia ama Tailandia',\n",
       " 'Sonia ama India',\n",
       " 'Sonia ama Japón',\n",
       " 'Ras ama Tailandia',\n",
       " 'Ras ama India',\n",
       " 'Ras ama Japón',\n",
       " 'Ana ama Tailandia',\n",
       " 'Ana ama India',\n",
       " 'Ana ama Japón']"
      ]
     },
     "execution_count": 41,
     "metadata": {},
     "output_type": "execute_result"
    }
   ],
   "source": [
    "lista_super"
   ]
  },
  {
   "cell_type": "code",
   "execution_count": 44,
   "id": "vital-karaoke",
   "metadata": {},
   "outputs": [],
   "source": [
    "# list comprehension\n",
    "lista_super_comp = [f\"{a} ama {p}\" for a in amigas for p in paises]"
   ]
  },
  {
   "cell_type": "code",
   "execution_count": 45,
   "id": "ongoing-england",
   "metadata": {},
   "outputs": [
    {
     "data": {
      "text/plain": [
       "['Sonia ama Tailandia',\n",
       " 'Sonia ama India',\n",
       " 'Sonia ama Japón',\n",
       " 'Ras ama Tailandia',\n",
       " 'Ras ama India',\n",
       " 'Ras ama Japón',\n",
       " 'Ana ama Tailandia',\n",
       " 'Ana ama India',\n",
       " 'Ana ama Japón']"
      ]
     },
     "execution_count": 45,
     "metadata": {},
     "output_type": "execute_result"
    }
   ],
   "source": [
    "lista_super_comp"
   ]
  },
  {
   "cell_type": "markdown",
   "id": "complex-appraisal",
   "metadata": {},
   "source": [
    "## Comprensiones de listas anidadas"
   ]
  },
  {
   "cell_type": "code",
   "execution_count": 46,
   "id": "american-stress",
   "metadata": {},
   "outputs": [
    {
     "data": {
      "text/plain": [
       "['Sonia', 'Ras', 'Ana']"
      ]
     },
     "execution_count": 46,
     "metadata": {},
     "output_type": "execute_result"
    }
   ],
   "source": [
    "amigas"
   ]
  },
  {
   "cell_type": "markdown",
   "id": "handled-scoop",
   "metadata": {},
   "source": [
    "Vamos a crear una lista de listas con un bucle for"
   ]
  },
  {
   "cell_type": "code",
   "execution_count": 49,
   "id": "fossil-cologne",
   "metadata": {},
   "outputs": [],
   "source": [
    "nombres_vacia = []\n",
    "for a in amigas:\n",
    "    lista = [a, a.swapcase(), a.upper(), a*3]\n",
    "    nombres_vacia.append(lista)"
   ]
  },
  {
   "cell_type": "code",
   "execution_count": 50,
   "id": "technological-naples",
   "metadata": {},
   "outputs": [
    {
     "data": {
      "text/plain": [
       "[['Sonia', 'sONIA', 'SONIA', 'SoniaSoniaSonia'],\n",
       " ['Ras', 'rAS', 'RAS', 'RasRasRas'],\n",
       " ['Ana', 'aNA', 'ANA', 'AnaAnaAna']]"
      ]
     },
     "execution_count": 50,
     "metadata": {},
     "output_type": "execute_result"
    }
   ],
   "source": [
    "nombres_vacia"
   ]
  },
  {
   "cell_type": "markdown",
   "id": "wound-legislature",
   "metadata": {},
   "source": [
    "¿Cómo haríamos esta lista de listas con comprehension list?"
   ]
  },
  {
   "cell_type": "code",
   "execution_count": 51,
   "id": "human-assist",
   "metadata": {},
   "outputs": [],
   "source": [
    "comprendemos = [[a, a.swapcase(), a.upper()] for a in amigas]"
   ]
  },
  {
   "cell_type": "code",
   "execution_count": 52,
   "id": "corresponding-dispute",
   "metadata": {},
   "outputs": [
    {
     "data": {
      "text/plain": [
       "[['Sonia', 'sONIA', 'SONIA'], ['Ras', 'rAS', 'RAS'], ['Ana', 'aNA', 'ANA']]"
      ]
     },
     "execution_count": 52,
     "metadata": {},
     "output_type": "execute_result"
    }
   ],
   "source": [
    "comprendemos"
   ]
  },
  {
   "cell_type": "markdown",
   "id": "primary-albany",
   "metadata": {},
   "source": [
    "Y.... ¿Cómo deshacemos una lista de listas?"
   ]
  },
  {
   "cell_type": "code",
   "execution_count": 53,
   "id": "stock-workshop",
   "metadata": {},
   "outputs": [
    {
     "data": {
      "text/plain": [
       "list"
      ]
     },
     "execution_count": 53,
     "metadata": {},
     "output_type": "execute_result"
    }
   ],
   "source": [
    "type(comprendemos)"
   ]
  },
  {
   "cell_type": "code",
   "execution_count": 54,
   "id": "special-straight",
   "metadata": {},
   "outputs": [
    {
     "data": {
      "text/plain": [
       "3"
      ]
     },
     "execution_count": 54,
     "metadata": {},
     "output_type": "execute_result"
    }
   ],
   "source": [
    "len(comprendemos)"
   ]
  },
  {
   "cell_type": "code",
   "execution_count": 65,
   "id": "engaging-civilian",
   "metadata": {},
   "outputs": [
    {
     "name": "stdout",
     "output_type": "stream",
     "text": [
      "[['Sonia', 'sONIA', 'SONIA'], ['Ras', 'rAS', 'RAS'], ['Ana', 'aNA', 'ANA']]\n"
     ]
    }
   ],
   "source": [
    "lista_de_listas = comprendemos.copy()\n",
    "print(lista_de_listas)"
   ]
  },
  {
   "cell_type": "code",
   "execution_count": 66,
   "id": "dangerous-generation",
   "metadata": {},
   "outputs": [],
   "source": [
    "aplano = [n for sublista in lista_de_listas for n in sublista]"
   ]
  },
  {
   "cell_type": "code",
   "execution_count": 67,
   "id": "mighty-wheat",
   "metadata": {},
   "outputs": [
    {
     "data": {
      "text/plain": [
       "['Sonia', 'sONIA', 'SONIA', 'Ras', 'rAS', 'RAS', 'Ana', 'aNA', 'ANA']"
      ]
     },
     "execution_count": 67,
     "metadata": {},
     "output_type": "execute_result"
    }
   ],
   "source": [
    "aplano"
   ]
  },
  {
   "cell_type": "code",
   "execution_count": 69,
   "id": "impossible-amendment",
   "metadata": {},
   "outputs": [],
   "source": [
    "# Bucle mal --> [n for n in sublista for sublista in lista_de_listas]"
   ]
  },
  {
   "cell_type": "code",
   "execution_count": 62,
   "id": "posted-hamburg",
   "metadata": {},
   "outputs": [],
   "source": [
    "vacia_otra = []\n",
    "for elemento in comprendemos:\n",
    "    for n in elemento:\n",
    "        vacia_otra.append(n)"
   ]
  },
  {
   "cell_type": "code",
   "execution_count": 63,
   "id": "obvious-singles",
   "metadata": {},
   "outputs": [
    {
     "data": {
      "text/plain": [
       "['Sonia', 'sONIA', 'SONIA', 'Ras', 'rAS', 'RAS', 'Ana', 'aNA', 'ANA']"
      ]
     },
     "execution_count": 63,
     "metadata": {},
     "output_type": "execute_result"
    }
   ],
   "source": [
    "vacia_otra"
   ]
  },
  {
   "cell_type": "markdown",
   "id": "systematic-experiment",
   "metadata": {},
   "source": [
    "## Comprensiones de diccionario"
   ]
  },
  {
   "cell_type": "code",
   "execution_count": 70,
   "id": "proper-wallpaper",
   "metadata": {},
   "outputs": [],
   "source": [
    "nombres = [\"Ras\", \"Sonia\", \"Dobby\", \"Ana\"]\n",
    "emojis = [\"🚀\", \"🐋\", \"🐶\", \"🍃\"]"
   ]
  },
  {
   "cell_type": "markdown",
   "id": "medical-insider",
   "metadata": {},
   "source": [
    "¿Cómo lo haríamos con un bucle normal?"
   ]
  },
  {
   "cell_type": "code",
   "execution_count": 71,
   "id": "tough-peeing",
   "metadata": {},
   "outputs": [],
   "source": [
    "dicc_ = {}\n",
    "for nombre,emoji in zip(nombres,emojis):\n",
    "    dicc_[nombre] = emoji"
   ]
  },
  {
   "cell_type": "code",
   "execution_count": 72,
   "id": "collectible-beach",
   "metadata": {},
   "outputs": [
    {
     "data": {
      "text/plain": [
       "{'Ras': '🚀', 'Sonia': '🐋', 'Dobby': '🐶', 'Ana': '🍃'}"
      ]
     },
     "execution_count": 72,
     "metadata": {},
     "output_type": "execute_result"
    }
   ],
   "source": [
    "dicc_"
   ]
  },
  {
   "cell_type": "markdown",
   "id": "facial-bathroom",
   "metadata": {},
   "source": [
    "¿Cómo lo hacemos con Comprehension Dict?"
   ]
  },
  {
   "cell_type": "code",
   "execution_count": 73,
   "id": "bright-latin",
   "metadata": {},
   "outputs": [],
   "source": [
    "dicc_comp = {nombre:emoji for nombre,emoji in zip(nombres,emojis) }"
   ]
  },
  {
   "cell_type": "code",
   "execution_count": 76,
   "id": "constitutional-daughter",
   "metadata": {},
   "outputs": [
    {
     "data": {
      "text/plain": [
       "{'Ras': '🚀', 'Sonia': '🐋', 'Dobby': '🐶', 'Ana': '🍃'}"
      ]
     },
     "execution_count": 76,
     "metadata": {},
     "output_type": "execute_result"
    }
   ],
   "source": [
    "dicc_comp"
   ]
  },
  {
   "cell_type": "markdown",
   "id": "crazy-treaty",
   "metadata": {},
   "source": [
    "## Retito 🤔\n",
    "Te dan una lista de palabras. Escribe un diccionario que contenga la longitud de cada palabra."
   ]
  },
  {
   "cell_type": "code",
   "execution_count": 79,
   "id": "romantic-tiffany",
   "metadata": {},
   "outputs": [],
   "source": [
    "palabras = [\"café\", \"isla\", \"bucear\", \"animales\", \"vacaciones\", \"dormir\", \"playa\", \"camiseta\"]"
   ]
  },
  {
   "cell_type": "code",
   "execution_count": 80,
   "id": "willing-ghana",
   "metadata": {},
   "outputs": [],
   "source": [
    "# clásico bucle\n",
    "diccionario = {}\n",
    "for palabra in palabras:\n",
    "    diccionario[palabra] = len(palabra)"
   ]
  },
  {
   "cell_type": "code",
   "execution_count": 81,
   "id": "peaceful-acceptance",
   "metadata": {},
   "outputs": [
    {
     "data": {
      "text/plain": [
       "{'café': 4,\n",
       " 'isla': 4,\n",
       " 'bucear': 6,\n",
       " 'animales': 8,\n",
       " 'vacaciones': 10,\n",
       " 'dormir': 6,\n",
       " 'playa': 5,\n",
       " 'camiseta': 8}"
      ]
     },
     "execution_count": 81,
     "metadata": {},
     "output_type": "execute_result"
    }
   ],
   "source": [
    "diccionario"
   ]
  },
  {
   "cell_type": "code",
   "execution_count": 82,
   "id": "arbitrary-valve",
   "metadata": {},
   "outputs": [],
   "source": [
    "diccionario_comp = {palabra:len(palabra) for palabra in palabras}"
   ]
  },
  {
   "cell_type": "code",
   "execution_count": 83,
   "id": "directed-penny",
   "metadata": {},
   "outputs": [
    {
     "data": {
      "text/plain": [
       "{'café': 4,\n",
       " 'isla': 4,\n",
       " 'bucear': 6,\n",
       " 'animales': 8,\n",
       " 'vacaciones': 10,\n",
       " 'dormir': 6,\n",
       " 'playa': 5,\n",
       " 'camiseta': 8}"
      ]
     },
     "execution_count": 83,
     "metadata": {},
     "output_type": "execute_result"
    }
   ],
   "source": [
    "diccionario_comp"
   ]
  },
  {
   "cell_type": "code",
   "execution_count": 85,
   "id": "renewable-sacrifice",
   "metadata": {},
   "outputs": [
    {
     "data": {
      "text/plain": [
       "{4: 'isla', 6: 'dormir', 8: 'camiseta', 10: 'vacaciones', 5: 'playa'}"
      ]
     },
     "execution_count": 85,
     "metadata": {},
     "output_type": "execute_result"
    }
   ],
   "source": [
    "alreves = {len(palabra):palabra for palabra in palabras}\n",
    "alreves"
   ]
  },
  {
   "cell_type": "code",
   "execution_count": 88,
   "id": "embedded-lawyer",
   "metadata": {},
   "outputs": [
    {
     "data": {
      "text/plain": [
       "{4: 'isla', 6: 'dormir', 8: 'camiseta', 10: 'vacaciones', 5: 'playa'}"
      ]
     },
     "execution_count": 88,
     "metadata": {},
     "output_type": "execute_result"
    }
   ],
   "source": [
    "darlelavuelta = {value:key for key,value in diccionario_comp.items()}\n",
    "darlelavuelta"
   ]
  },
  {
   "cell_type": "markdown",
   "id": "opponent-diversity",
   "metadata": {},
   "source": [
    "## Retito 🤔\n",
    "Se le dan los pares país-dato de un tema determinado (no nos importa). \n",
    "- Construye una lista con los países\n",
    "- Construye un diccionario con los países y el dato"
   ]
  },
  {
   "cell_type": "code",
   "execution_count": 90,
   "id": "alone-stanley",
   "metadata": {},
   "outputs": [],
   "source": [
    "codes = [\"es-91\", \"en-88\", \"fr-12\", \"it-33\", \"ar-55\", \"au-66\", \"usa-55\"]"
   ]
  },
  {
   "cell_type": "code",
   "execution_count": 92,
   "id": "ranking-sleeve",
   "metadata": {},
   "outputs": [
    {
     "data": {
      "text/plain": [
       "['es', '91']"
      ]
     },
     "execution_count": 92,
     "metadata": {},
     "output_type": "execute_result"
    }
   ],
   "source": [
    "codes[0].split(\"-\")"
   ]
  },
  {
   "cell_type": "code",
   "execution_count": 98,
   "id": "educational-football",
   "metadata": {},
   "outputs": [
    {
     "data": {
      "text/plain": [
       "['hola', 'qué', 'tal', 'estáis']"
      ]
     },
     "execution_count": 98,
     "metadata": {},
     "output_type": "execute_result"
    }
   ],
   "source": [
    "cadena_tonta = \"hola-qué-tal-estáis\"\n",
    "cadena_tonta.split(\"-\")"
   ]
  },
  {
   "cell_type": "code",
   "execution_count": 93,
   "id": "interior-coupon",
   "metadata": {},
   "outputs": [
    {
     "data": {
      "text/plain": [
       "'es'"
      ]
     },
     "execution_count": 93,
     "metadata": {},
     "output_type": "execute_result"
    }
   ],
   "source": [
    "codes[0].split(\"-\")[0]"
   ]
  },
  {
   "cell_type": "code",
   "execution_count": 94,
   "id": "cultural-compromise",
   "metadata": {},
   "outputs": [],
   "source": [
    "paises = [p.split(\"-\")[0] for p in codes]"
   ]
  },
  {
   "cell_type": "code",
   "execution_count": 95,
   "id": "comparative-developer",
   "metadata": {},
   "outputs": [
    {
     "data": {
      "text/plain": [
       "['es', 'en', 'fr', 'it', 'ar', 'au', 'usa']"
      ]
     },
     "execution_count": 95,
     "metadata": {},
     "output_type": "execute_result"
    }
   ],
   "source": [
    "paises"
   ]
  },
  {
   "cell_type": "code",
   "execution_count": 97,
   "id": "practical-vietnam",
   "metadata": {},
   "outputs": [
    {
     "data": {
      "text/plain": [
       "{'es': '91',\n",
       " 'en': '88',\n",
       " 'fr': '12',\n",
       " 'it': '33',\n",
       " 'ar': '55',\n",
       " 'au': '66',\n",
       " 'usa': '55'}"
      ]
     },
     "execution_count": 97,
     "metadata": {},
     "output_type": "execute_result"
    }
   ],
   "source": [
    "dicc_codes = {p.split(\"-\")[0]:p.split(\"-\")[1] for p in codes}\n",
    "dicc_codes"
   ]
  },
  {
   "cell_type": "markdown",
   "id": "based-expression",
   "metadata": {},
   "source": [
    "## Último retito\n",
    "Saca también, con un set comprehension, solamente los códigos de países únicos"
   ]
  },
  {
   "cell_type": "code",
   "execution_count": 100,
   "id": "unable-liabilities",
   "metadata": {},
   "outputs": [],
   "source": [
    "codes2 = [\"es-91\", \"en-88\", \"en-43\", \"fr-12\", \"it-33\", \"es-15\", \"fr-55\", \"es-66\", \"usa-55\"]"
   ]
  },
  {
   "cell_type": "code",
   "execution_count": 101,
   "id": "sapphire-luther",
   "metadata": {},
   "outputs": [],
   "source": [
    "set_pa = {p.split(\"-\")[0] for p in codes2}"
   ]
  },
  {
   "cell_type": "code",
   "execution_count": 102,
   "id": "inner-refund",
   "metadata": {},
   "outputs": [
    {
     "data": {
      "text/plain": [
       "{'en', 'es', 'fr', 'it', 'usa'}"
      ]
     },
     "execution_count": 102,
     "metadata": {},
     "output_type": "execute_result"
    }
   ],
   "source": [
    "set_pa"
   ]
  }
 ],
 "metadata": {
  "kernelspec": {
   "display_name": "ironhack",
   "language": "python",
   "name": "ironhack"
  },
  "language_info": {
   "codemirror_mode": {
    "name": "ipython",
    "version": 3
   },
   "file_extension": ".py",
   "mimetype": "text/x-python",
   "name": "python",
   "nbconvert_exporter": "python",
   "pygments_lexer": "ipython3",
   "version": "3.8.5"
  },
  "toc": {
   "base_numbering": 1,
   "nav_menu": {},
   "number_sections": true,
   "sideBar": true,
   "skip_h1_title": true,
   "title_cell": "Table of Contents",
   "title_sidebar": "Contents",
   "toc_cell": false,
   "toc_position": {},
   "toc_section_display": true,
   "toc_window_display": false
  }
 },
 "nbformat": 4,
 "nbformat_minor": 5
}
