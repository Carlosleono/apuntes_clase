{
 "cells": [
  {
   "cell_type": "markdown",
   "id": "raised-meter",
   "metadata": {
    "toc": true
   },
   "source": [
    "<h1>Table of Contents<span class=\"tocSkip\"></span></h1>\n",
    "<div class=\"toc\"><ul class=\"toc-item\"><li><span><a href=\"#La-sentencia-&quot;while&quot;\" data-toc-modified-id=\"La-sentencia-&quot;while&quot;-1\"><span class=\"toc-item-num\">1&nbsp;&nbsp;</span>La sentencia \"while\"</a></span><ul class=\"toc-item\"><li><span><a href=\"#Nonetype\" data-toc-modified-id=\"Nonetype-1.1\"><span class=\"toc-item-num\">1.1&nbsp;&nbsp;</span>Nonetype</a></span></li></ul></li><li><span><a href=\"#Pass\" data-toc-modified-id=\"Pass-2\"><span class=\"toc-item-num\">2&nbsp;&nbsp;</span>Pass</a></span></li><li><span><a href=\"#For\" data-toc-modified-id=\"For-3\"><span class=\"toc-item-num\">3&nbsp;&nbsp;</span>For</a></span><ul class=\"toc-item\"><li><span><a href=\"#Iteramos-por-strings\" data-toc-modified-id=\"Iteramos-por-strings-3.1\"><span class=\"toc-item-num\">3.1&nbsp;&nbsp;</span>Iteramos por strings</a></span></li><li><span><a href=\"#Iterate-por-una-lista\" data-toc-modified-id=\"Iterate-por-una-lista-3.2\"><span class=\"toc-item-num\">3.2&nbsp;&nbsp;</span>Iterate por una lista</a></span></li><li><span><a href=\"#Iteramos-por-listas-sobre-su-índice\" data-toc-modified-id=\"Iteramos-por-listas-sobre-su-índice-3.3\"><span class=\"toc-item-num\">3.3&nbsp;&nbsp;</span>Iteramos por listas sobre su índice</a></span></li><li><span><a href=\"#Iteramos-por-dos-listas-al-mismo-tiempo\" data-toc-modified-id=\"Iteramos-por-dos-listas-al-mismo-tiempo-3.4\"><span class=\"toc-item-num\">3.4&nbsp;&nbsp;</span>Iteramos por dos listas al mismo tiempo</a></span></li><li><span><a href=\"#Iterar-sobre-los-elementos-de-un-diccionario\" data-toc-modified-id=\"Iterar-sobre-los-elementos-de-un-diccionario-3.5\"><span class=\"toc-item-num\">3.5&nbsp;&nbsp;</span>Iterar sobre los elementos de un diccionario</a></span></li></ul></li><li><span><a href=\"#Break\" data-toc-modified-id=\"Break-4\"><span class=\"toc-item-num\">4&nbsp;&nbsp;</span>Break</a></span></li><li><span><a href=\"#Resumen\" data-toc-modified-id=\"Resumen-5\"><span class=\"toc-item-num\">5&nbsp;&nbsp;</span>Resumen</a></span></li></ul></div>"
   ]
  },
  {
   "cell_type": "markdown",
   "id": "constant-discovery",
   "metadata": {},
   "source": [
    "# Let's keep the flow going"
   ]
  },
  {
   "cell_type": "markdown",
   "id": "genetic-output",
   "metadata": {},
   "source": [
    "![FLOW](https://media.giphy.com/media/h8y265b9iKtzKT0pDj/giphy.gif)"
   ]
  },
  {
   "cell_type": "markdown",
   "id": "spiritual-sphere",
   "metadata": {},
   "source": [
    "# Recap ¿Dudas de ayer?\n"
   ]
  },
  {
   "cell_type": "markdown",
   "id": "retained-warner",
   "metadata": {},
   "source": [
    "## La sentencia \"while\"\n",
    "\n",
    "A veces queremos ejecutar un programa hasta que se cumpla una condición. Podemos conseguirlo con la cláusula `while`.\n",
    "\n",
    "**Nota:** ¡Cuidado con las recursiones infinitas!"
   ]
  },
  {
   "cell_type": "code",
   "execution_count": 2,
   "id": "alive-nothing",
   "metadata": {},
   "outputs": [
    {
     "name": "stdout",
     "output_type": "stream",
     "text": [
      "buenos días\n"
     ]
    }
   ],
   "source": [
    "# ¡La recursividad infinita es divertida!\n",
    "# ¿Qué atajo nos permite romper esta recursión infinita?\n",
    "condicion=True\n",
    "while condicion:\n",
    "    print(\"buenos días\")\n",
    "    condicion = False"
   ]
  },
  {
   "cell_type": "code",
   "execution_count": 3,
   "id": "cloudy-bennett",
   "metadata": {},
   "outputs": [
    {
     "name": "stdout",
     "output_type": "stream",
     "text": [
      "hola\n",
      "hola\n",
      "hola\n"
     ]
    },
    {
     "ename": "KeyboardInterrupt",
     "evalue": "",
     "output_type": "error",
     "traceback": [
      "\u001b[0;31m---------------------------------------------------------------------------\u001b[0m",
      "\u001b[0;31mKeyboardInterrupt\u001b[0m                         Traceback (most recent call last)",
      "\u001b[0;32m<ipython-input-3-f0977cbd5fe5>\u001b[0m in \u001b[0;36m<module>\u001b[0;34m\u001b[0m\n\u001b[1;32m      2\u001b[0m \u001b[0;32mwhile\u001b[0m \u001b[0;34m\"a\"\u001b[0m \u001b[0;34m!=\u001b[0m \u001b[0;34m\"b\"\u001b[0m\u001b[0;34m:\u001b[0m\u001b[0;34m\u001b[0m\u001b[0;34m\u001b[0m\u001b[0m\n\u001b[1;32m      3\u001b[0m     \u001b[0mprint\u001b[0m\u001b[0;34m(\u001b[0m\u001b[0;34m\"hola\"\u001b[0m\u001b[0;34m)\u001b[0m\u001b[0;34m\u001b[0m\u001b[0;34m\u001b[0m\u001b[0m\n\u001b[0;32m----> 4\u001b[0;31m     \u001b[0mtime\u001b[0m\u001b[0;34m.\u001b[0m\u001b[0msleep\u001b[0m\u001b[0;34m(\u001b[0m\u001b[0;36m2\u001b[0m\u001b[0;34m)\u001b[0m\u001b[0;34m\u001b[0m\u001b[0;34m\u001b[0m\u001b[0m\n\u001b[0m",
      "\u001b[0;31mKeyboardInterrupt\u001b[0m: "
     ]
    }
   ],
   "source": [
    "import time\n",
    "while \"a\" != \"b\":\n",
    "    print(\"hola\")\n",
    "    time.sleep(2)"
   ]
  },
  {
   "cell_type": "code",
   "execution_count": 4,
   "id": "appropriate-truth",
   "metadata": {},
   "outputs": [
    {
     "name": "stdout",
     "output_type": "stream",
     "text": [
      "Introduce un número7\n",
      "Introduce un número5\n",
      "Introduce un número8\n",
      "Introduce un número0\n"
     ]
    }
   ],
   "source": [
    "# Ejemplo, escribimos un programa.\n",
    "# Pregunta al usuario por un número hasta que introduce 0.\n",
    "num = None\n",
    "while num !=0:\n",
    "    num = int(input(\"Introduce un número\"))"
   ]
  },
  {
   "cell_type": "code",
   "execution_count": 5,
   "id": "liked-picnic",
   "metadata": {},
   "outputs": [
    {
     "name": "stdout",
     "output_type": "stream",
     "text": [
      "Introduce un número7\n",
      "Introduce un número3\n",
      "Introduce un número9\n",
      "Introduce un número0\n"
     ]
    }
   ],
   "source": [
    "num = int(input(\"Introduce un número\"))\n",
    "while num !=0:\n",
    "    num = int(input(\"Introduce un número\"))"
   ]
  },
  {
   "cell_type": "markdown",
   "id": "democratic-alexander",
   "metadata": {},
   "source": [
    "### Nonetype \n",
    "La palabra clave None se utiliza para definir una variable nula o un objeto. En Python, la palabra clave None es un objeto, y es un tipo de datos de la clase NoneType.\n",
    "\n",
    "Podemos asignar None a cualquier variable, pero no se pueden crear otros objetos NoneType."
   ]
  },
  {
   "cell_type": "code",
   "execution_count": 6,
   "id": "weekly-bailey",
   "metadata": {},
   "outputs": [
    {
     "data": {
      "text/plain": [
       "NoneType"
      ]
     },
     "execution_count": 6,
     "metadata": {},
     "output_type": "execute_result"
    }
   ],
   "source": [
    "num = None\n",
    "type(num)"
   ]
  },
  {
   "cell_type": "markdown",
   "id": "pressed-calcium",
   "metadata": {},
   "source": [
    "[NoneType](https://www.educative.io/edpresso/what-is-the-none-keyword-in-python#:~:text=In%20Python%2C%20None%20keyword%20is,not%20create%20other%20NoneType%20objects.)"
   ]
  },
  {
   "cell_type": "markdown",
   "id": "accompanied-synthetic",
   "metadata": {},
   "source": [
    "En el caso de while True la expresión siempre va a ser evaluada como verdadera por definición. \n",
    "Equivaldría a:\n",
    "\n",
    "```python\n",
    "mientras verdadero sea verdadero:    \n",
    "    hacer algo\n",
    "   ````"
   ]
  },
  {
   "cell_type": "markdown",
   "id": "empty-seattle",
   "metadata": {},
   "source": [
    "🐒 - Escribimos un programa que pide al usuario una letra entre a y d eternamente hasta que introduce una correctamente.     \n",
    "Lo hago yo, pero me ayudáis...."
   ]
  },
  {
   "cell_type": "code",
   "execution_count": 7,
   "id": "young-shooting",
   "metadata": {},
   "outputs": [
    {
     "name": "stdout",
     "output_type": "stream",
     "text": [
      "Introduce una letra entre la A y la D i\n",
      " Tien e que estar entre la A Y la D\n",
      "Introduce una letra entre la A y la D d\n"
     ]
    }
   ],
   "source": [
    "while True:\n",
    "    l\"detras = [\"a\",\"b\",\"c\",\"]\n",
    "    data = input(\"Introduce una letra entre la A y la D \")\n",
    "    if data.lower() not in letras:\n",
    "        print(\" Tiene que estar entre la A Y la D\")\n",
    "    else:\n",
    "        break"
   ]
  },
  {
   "cell_type": "code",
   "execution_count": 8,
   "id": "known-scottish",
   "metadata": {},
   "outputs": [
    {
     "name": "stdout",
     "output_type": "stream",
     "text": [
      "Introduce una letra entre la A y la D a\n"
     ]
    }
   ],
   "source": [
    "while True:\n",
    "    data = input(\"Introduce una letra entre la A y la D \")\n",
    "    if data.lower() not in (\"a\",\"b\",\"c\",\"d\"):\n",
    "        print(\" Tiene que estar entre la A Y la D\")\n",
    "    else:\n",
    "        break"
   ]
  },
  {
   "cell_type": "code",
   "execution_count": 11,
   "id": "selective-management",
   "metadata": {},
   "outputs": [
    {
     "name": "stdout",
     "output_type": "stream",
     "text": [
      "Introduce una letra entre la A y la D a\n"
     ]
    }
   ],
   "source": [
    "data = \"\"\n",
    "while data.lower() not in (\"a\",\"b\",\"c\",\"d\"):\n",
    "    data = input(\"Introduce una letra entre la A y la D \")"
   ]
  },
  {
   "cell_type": "markdown",
   "id": "reserved-encounter",
   "metadata": {},
   "source": [
    "# Reto 🤔\n",
    "¡Ahora es tu turno!     \n",
    "Resuelve los ejercicios 2 y 3 de actividades de hoy"
   ]
  },
  {
   "cell_type": "markdown",
   "id": "supreme-southwest",
   "metadata": {},
   "source": [
    "## Pass\n",
    "La sentencia pass no hace nada. Puede utilizarse cuando se requiere una sentencia sintáctica pero el programa no requiere ninguna acción (de los [docs](https://docs.python.org/3/tutorial/controlflow.html))           \n",
    "\n",
    "(Nuestra sentencia favorita de cara a nuestra jubilación)    \n",
    "Aunque pueda sorprendernos, resulta útil en varias situaciones. En Python no podemos tener sin definir un bloque de código (por ejemplo, el cuerpo de una función, el cuerpo de una condición o el de un bucle). Así que es habitual usar pass cuando estamos escribiendo la estructura de nuestro programa pero aún no hemos abordado la implementación de determinados bloques de código."
   ]
  },
  {
   "cell_type": "code",
   "execution_count": 22,
   "id": "welsh-estimate",
   "metadata": {},
   "outputs": [
    {
     "ename": "SyntaxError",
     "evalue": "unexpected EOF while parsing (<ipython-input-22-8a7f00d2525c>, line 1)",
     "output_type": "error",
     "traceback": [
      "\u001b[0;36m  File \u001b[0;32m\"<ipython-input-22-8a7f00d2525c>\"\u001b[0;36m, line \u001b[0;32m1\u001b[0m\n\u001b[0;31m    def funcion():\u001b[0m\n\u001b[0m                  ^\u001b[0m\n\u001b[0;31mSyntaxError\u001b[0m\u001b[0;31m:\u001b[0m unexpected EOF while parsing\n"
     ]
    }
   ],
   "source": [
    "def funcion():"
   ]
  },
  {
   "cell_type": "code",
   "execution_count": 15,
   "id": "international-search",
   "metadata": {},
   "outputs": [],
   "source": [
    "def funcion2():\n",
    "    # Esta función tenía que hacer algo pero no me acuerdo\n",
    "    # Ahora lo pienso que no estoy inspirada\n",
    "    pass"
   ]
  },
  {
   "cell_type": "code",
   "execution_count": 19,
   "id": "dutch-paragraph",
   "metadata": {},
   "outputs": [
    {
     "name": "stdout",
     "output_type": "stream",
     "text": [
      "None\n"
     ]
    }
   ],
   "source": [
    "guardo = funcion2()\n",
    "print(guardo)"
   ]
  },
  {
   "cell_type": "code",
   "execution_count": 16,
   "id": "concerned-alert",
   "metadata": {},
   "outputs": [],
   "source": [
    "variable = \"Hola\"\n",
    "if variable != \"h\":\n",
    "    pass"
   ]
  },
  {
   "cell_type": "markdown",
   "id": "classical-passenger",
   "metadata": {},
   "source": [
    "## For"
   ]
  },
  {
   "cell_type": "markdown",
   "id": "southeast-explorer",
   "metadata": {},
   "source": [
    "Es muy habitual escribir un código con bucles dentro de estas dos posibles situaciones:    \n",
    "    - 1: Cuando utilizamos un contador en el seno de una repetición. El contador es una variable que va incrementándose o disminuyendo de forma constante en cada iteración del bucle hasta alcanzar un valor límite que marca el fin de las repeticiones.   \n",
    "    - 2: Cuando iteramos sobre los elementos de un contenedor, por ejemplo, una lista, para operar sobre cada uno de ellos. También en este caso conocemos de antemano el número de repeticiones que tendrán lugar."
   ]
  },
  {
   "cell_type": "markdown",
   "id": "national-clock",
   "metadata": {},
   "source": [
    "La sentencia For, en Python, permite iterar sobre secuencias de valores (listas o cadenas) según un orden establecido. A diferencia de otros lenguajes, con el for de Python no se definen contadores o expresiones que cambien a cada iteración sino una secuencia sobre la cual la variable contador tomará sus valores. En cualquier caso, es la opción más adecuada para resolver los dos casos anteriores....vamos a poner un ejemplo:"
   ]
  },
  {
   "cell_type": "code",
   "execution_count": 23,
   "id": "early-bullet",
   "metadata": {},
   "outputs": [
    {
     "name": "stdout",
     "output_type": "stream",
     "text": [
      "1\n",
      "2\n",
      "3\n",
      "4\n"
     ]
    }
   ],
   "source": [
    "lista = [1,2,3,4]\n",
    "for num in lista:\n",
    "    print(num)"
   ]
  },
  {
   "cell_type": "code",
   "execution_count": 24,
   "id": "representative-disability",
   "metadata": {},
   "outputs": [
    {
     "name": "stdout",
     "output_type": "stream",
     "text": [
      "4\n"
     ]
    }
   ],
   "source": [
    "print(num)"
   ]
  },
  {
   "cell_type": "code",
   "execution_count": 32,
   "id": "gothic-reform",
   "metadata": {},
   "outputs": [
    {
     "name": "stdout",
     "output_type": "stream",
     "text": [
      "4\n"
     ]
    }
   ],
   "source": [
    "lista = [1,2,3,4]\n",
    "guardop = []\n",
    "num = 24626\n",
    "for num in lista:\n",
    "    guardop.append(num*2)\n",
    "print(num)"
   ]
  },
  {
   "cell_type": "markdown",
   "id": "abroad-creature",
   "metadata": {},
   "source": [
    "La sentencia for, en Python, itera sobre colecciones. Por tanto, si necesitamos un contador que se incremente en cada iteración, Python proporciona la función range(), que genera listas de enteros. Esta función permite generar secuencias y es bastante versátil y podemos invocarla de diferentes maneras:"
   ]
  },
  {
   "cell_type": "markdown",
   "id": "green-meeting",
   "metadata": {},
   "source": [
    "- Con un solo argumento: genera enteros que van desde 0 hasta el anterior indicado como parámetro:"
   ]
  },
  {
   "cell_type": "code",
   "execution_count": 33,
   "id": "headed-planner",
   "metadata": {},
   "outputs": [
    {
     "name": "stdout",
     "output_type": "stream",
     "text": [
      "[0, 1, 2, 3, 4]\n"
     ]
    }
   ],
   "source": [
    "print(list(range(5)))"
   ]
  },
  {
   "cell_type": "code",
   "execution_count": 36,
   "id": "seeing-fighter",
   "metadata": {},
   "outputs": [
    {
     "data": {
      "text/plain": [
       "range"
      ]
     },
     "execution_count": 36,
     "metadata": {},
     "output_type": "execute_result"
    }
   ],
   "source": [
    "type(range(7))"
   ]
  },
  {
   "cell_type": "code",
   "execution_count": 34,
   "id": "canadian-petroleum",
   "metadata": {},
   "outputs": [
    {
     "name": "stdout",
     "output_type": "stream",
     "text": [
      "1\n",
      "3\n",
      "5\n"
     ]
    }
   ],
   "source": [
    "# Imprimo los impares de una lista a través de un rango\n",
    "for n in range(7):\n",
    "    if n % 2 != 0:\n",
    "        print(n)"
   ]
  },
  {
   "cell_type": "markdown",
   "id": "latter-auction",
   "metadata": {},
   "source": [
    "- Con dos argumentos. El primer parámetro es el valor inicial y el segundo el valor por debajo del cual deben estar los elementos de la lista:"
   ]
  },
  {
   "cell_type": "code",
   "execution_count": 37,
   "id": "agreed-doctor",
   "metadata": {},
   "outputs": [
    {
     "name": "stdout",
     "output_type": "stream",
     "text": [
      "[4, 5, 6, 7, 8]\n"
     ]
    }
   ],
   "source": [
    "print(list(range(4,9)))"
   ]
  },
  {
   "cell_type": "markdown",
   "id": "adapted-microphone",
   "metadata": {},
   "source": [
    "- Con tres argumentos. Igual que en el anterior, pero el tercer parámetro indica el incremento que se produce de un elemento al siguiente:"
   ]
  },
  {
   "cell_type": "code",
   "execution_count": 38,
   "id": "resistant-medicare",
   "metadata": {},
   "outputs": [
    {
     "name": "stdout",
     "output_type": "stream",
     "text": [
      "[1, 4, 7]\n"
     ]
    }
   ],
   "source": [
    "print(list(range(1,9,3)))"
   ]
  },
  {
   "cell_type": "markdown",
   "id": "identical-charm",
   "metadata": {},
   "source": [
    "# Retos 🤔\n",
    "¡Ahora es tu turno!     \n",
    "Resuelve los ejercicios 4,5 y 6 del jupyter de actividades de hoy"
   ]
  },
  {
   "cell_type": "markdown",
   "id": "closing-pound",
   "metadata": {},
   "source": [
    "### Iteramos por strings"
   ]
  },
  {
   "cell_type": "code",
   "execution_count": 39,
   "id": "revolutionary-romantic",
   "metadata": {},
   "outputs": [
    {
     "name": "stdout",
     "output_type": "stream",
     "text": [
      "P\n",
      "y\n",
      "t\n",
      "h\n",
      "o\n",
      "n\n"
     ]
    }
   ],
   "source": [
    "cadena = \"Python\"\n",
    "for letra in cadena:\n",
    "    print(letra)"
   ]
  },
  {
   "cell_type": "markdown",
   "id": "worth-steps",
   "metadata": {},
   "source": [
    "### Iterate por una lista"
   ]
  },
  {
   "cell_type": "code",
   "execution_count": 44,
   "id": "careful-missile",
   "metadata": {},
   "outputs": [
    {
     "name": "stdout",
     "output_type": "stream",
     "text": [
      "Ras\n",
      "Sonia\n",
      "Dobby\n",
      "Ana\n"
     ]
    }
   ],
   "source": [
    "nombres = [\"Ras\", \"Sonia\", \"Dobby\", \"Ana\"]\n",
    "for nombre in nombres: \n",
    "    print(nombre)"
   ]
  },
  {
   "cell_type": "code",
   "execution_count": 45,
   "id": "collectible-ferry",
   "metadata": {},
   "outputs": [
    {
     "name": "stdout",
     "output_type": "stream",
     "text": [
      "[0]\n",
      "[0, 2]\n",
      "[0, 2, 4]\n",
      "[0, 2, 4, 6]\n",
      "[0, 2, 4, 6, 8]\n",
      "[0, 2, 4, 6, 8]\n"
     ]
    }
   ],
   "source": [
    "numeros = list(range(10))\n",
    "pares = []\n",
    "for num in numeros:\n",
    "    if num % 2 == 0:\n",
    "        pares.append(num)\n",
    "        print(pares) # Vemos las iteraciones\n",
    "print(pares)"
   ]
  },
  {
   "cell_type": "markdown",
   "id": "accessible-trance",
   "metadata": {},
   "source": [
    "### Iteramos por listas sobre su índice\n",
    "- Built in functions --> https://docs.python.org/3/library/functions.html\n",
    "- Enumerate doc --> https://book.pythontips.com/en/latest/enumerate.html"
   ]
  },
  {
   "cell_type": "code",
   "execution_count": null,
   "id": "figured-library",
   "metadata": {},
   "outputs": [],
   "source": [
    "# ENUMERATE"
   ]
  },
  {
   "cell_type": "code",
   "execution_count": null,
   "id": "thirty-coffee",
   "metadata": {},
   "outputs": [],
   "source": [
    "nombres = [\"Ras\", \"Sonia\", \"Dobby\", \"Ana\"]"
   ]
  },
  {
   "cell_type": "code",
   "execution_count": 54,
   "id": "bright-shipping",
   "metadata": {},
   "outputs": [
    {
     "name": "stdout",
     "output_type": "stream",
     "text": [
      "Ras\n",
      "Sonia\n",
      "Dobby\n",
      "Ana\n"
     ]
    }
   ],
   "source": [
    "for nombre in nombres:\n",
    "    print(nombre)"
   ]
  },
  {
   "cell_type": "code",
   "execution_count": 55,
   "id": "acceptable-impression",
   "metadata": {},
   "outputs": [
    {
     "name": "stdout",
     "output_type": "stream",
     "text": [
      "0\n",
      "1\n",
      "2\n",
      "3\n"
     ]
    }
   ],
   "source": [
    "for n in range(len(nombres)):\n",
    "    print(n)"
   ]
  },
  {
   "cell_type": "code",
   "execution_count": 46,
   "id": "intimate-sacramento",
   "metadata": {},
   "outputs": [
    {
     "data": {
      "text/plain": [
       "'P'"
      ]
     },
     "execution_count": 46,
     "metadata": {},
     "output_type": "execute_result"
    }
   ],
   "source": [
    "cadena[0]"
   ]
  },
  {
   "cell_type": "code",
   "execution_count": 47,
   "id": "found-underwear",
   "metadata": {},
   "outputs": [
    {
     "data": {
      "text/plain": [
       "'Ras'"
      ]
     },
     "execution_count": 47,
     "metadata": {},
     "output_type": "execute_result"
    }
   ],
   "source": [
    "nombres[0]"
   ]
  },
  {
   "cell_type": "code",
   "execution_count": 50,
   "id": "periodic-lodging",
   "metadata": {},
   "outputs": [
    {
     "name": "stdout",
     "output_type": "stream",
     "text": [
      "0 Ras\n",
      "El nombre es Ras y su posición es 0\n",
      "1 Sonia\n",
      "El nombre es Sonia y su posición es 1\n",
      "2 Dobby\n",
      "El nombre es Dobby y su posición es 2\n",
      "3 Ana\n",
      "El nombre es Ana y su posición es 3\n"
     ]
    }
   ],
   "source": [
    "for indice,nombre in enumerate(nombres):\n",
    "    print(indice,nombre)\n",
    "    print(f\"El nombre es {nombre} y su posición es {indice}\")"
   ]
  },
  {
   "cell_type": "code",
   "execution_count": 51,
   "id": "swiss-weather",
   "metadata": {},
   "outputs": [
    {
     "name": "stdout",
     "output_type": "stream",
     "text": [
      "0 Ras\n",
      "1 Sonia\n",
      "2 Dobby\n",
      "3 Ana\n"
     ]
    }
   ],
   "source": [
    "for i,n in enumerate(nombres):\n",
    "    print(i,n)"
   ]
  },
  {
   "cell_type": "code",
   "execution_count": 53,
   "id": "sixth-bermuda",
   "metadata": {},
   "outputs": [
    {
     "name": "stdout",
     "output_type": "stream",
     "text": [
      "0 Ras\n",
      "1 Sonia\n",
      "2 Dobby\n",
      "3 Ana\n"
     ]
    }
   ],
   "source": [
    "# ESTE CÓDIGO HACE LO MISMO QUE ENUMERATE\n",
    "for i in range(len(nombres)):\n",
    "    print(i,nombres[i])"
   ]
  },
  {
   "cell_type": "markdown",
   "id": "measured-founder",
   "metadata": {},
   "source": [
    "### Iteramos por dos listas al mismo tiempo"
   ]
  },
  {
   "cell_type": "markdown",
   "id": "level-palestinian",
   "metadata": {},
   "source": [
    "Os dejo la documentación de zip, recordad que no va a dar error si las listas son de diferente tamaño pero la última iteración será la de la lista más corta      \n",
    "[DOC](https://docs.python.org/3/library/functions.html)"
   ]
  },
  {
   "cell_type": "code",
   "execution_count": 56,
   "id": "egyptian-opening",
   "metadata": {},
   "outputs": [],
   "source": [
    "nombres = [\"Ras\", \"Sonia\", \"Dobby\", \"Ana\", \"A ver si da error\"]\n",
    "emojis = [\"🚀\", \"🐋\", \"🐶\", \"🍃\"]\n",
    "lista_2 = [1,2,3,4,5,56,67,78,9,90]"
   ]
  },
  {
   "cell_type": "code",
   "execution_count": 57,
   "id": "curious-curve",
   "metadata": {},
   "outputs": [
    {
     "name": "stdout",
     "output_type": "stream",
     "text": [
      "El nombre es Ras y su emoji es 🚀\n",
      "El nombre es Sonia y su emoji es 🐋\n",
      "El nombre es Dobby y su emoji es 🐶\n",
      "El nombre es Ana y su emoji es 🍃\n"
     ]
    }
   ],
   "source": [
    "for nombre, emoji in zip(nombres,emojis):\n",
    "    print(f\"El nombre es {nombre} y su emoji es {emoji}\")"
   ]
  },
  {
   "cell_type": "code",
   "execution_count": 60,
   "id": "excellent-equation",
   "metadata": {},
   "outputs": [
    {
     "name": "stdout",
     "output_type": "stream",
     "text": [
      "El emoji es 🚀, su nombre es Ras y un numerito random 1\n",
      "El emoji es 🐋, su nombre es Sonia y un numerito random 2\n",
      "El emoji es 🐶, su nombre es Dobby y un numerito random 3\n",
      "El emoji es 🍃, su nombre es Ana y un numerito random 4\n"
     ]
    }
   ],
   "source": [
    "for num,nombre,emoji in zip(lista_2,nombres, emojis):\n",
    "    print(f\"El emoji es {emoji}, su nombre es {nombre} y un numerito random {num}\")"
   ]
  },
  {
   "cell_type": "code",
   "execution_count": 61,
   "id": "executed-death",
   "metadata": {},
   "outputs": [
    {
     "name": "stdout",
     "output_type": "stream",
     "text": [
      "El emoji es 🚀, su nombre es Ras y un numerito random 1\n",
      "El emoji es 🐋, su nombre es Sonia y un numerito random 2\n",
      "El emoji es 🐶, su nombre es Dobby y un numerito random 3\n",
      "El emoji es 🍃, su nombre es Ana y un numerito random 4\n"
     ]
    }
   ],
   "source": [
    "for a,b,c in zip(lista_2,nombres, emojis):\n",
    "    print(f\"El emoji es {c}, su nombre es {b} y un numerito random {a}\")"
   ]
  },
  {
   "cell_type": "code",
   "execution_count": 62,
   "id": "plastic-bloom",
   "metadata": {},
   "outputs": [],
   "source": [
    "lista3 = set(lista_2)"
   ]
  },
  {
   "cell_type": "code",
   "execution_count": 63,
   "id": "numeric-champagne",
   "metadata": {},
   "outputs": [
    {
     "name": "stdout",
     "output_type": "stream",
     "text": [
      "1 Ras\n",
      "2 Sonia\n",
      "3 Dobby\n",
      "4 Ana\n",
      "5 A ver si da error\n"
     ]
    }
   ],
   "source": [
    "for n, nombre in zip(lista3,nombres):\n",
    "    print(n,nombre)"
   ]
  },
  {
   "cell_type": "code",
   "execution_count": null,
   "id": "aerial-leonard",
   "metadata": {},
   "outputs": [],
   "source": [
    "# Enumerate + zip en el bucle directamente"
   ]
  },
  {
   "cell_type": "code",
   "execution_count": 64,
   "id": "random-detector",
   "metadata": {},
   "outputs": [
    {
     "name": "stdout",
     "output_type": "stream",
     "text": [
      "El nombre es Ras, su emoji es 🚀, el n random es 1 y su posición en la lista es 0\n",
      "El nombre es Sonia, su emoji es 🐋, el n random es 2 y su posición en la lista es 1\n",
      "El nombre es Dobby, su emoji es 🐶, el n random es 3 y su posición en la lista es 2\n",
      "El nombre es Ana, su emoji es 🍃, el n random es 4 y su posición en la lista es 3\n"
     ]
    }
   ],
   "source": [
    "for indice,(nombre,emoji,num) in enumerate(zip(nombres,emojis,lista_2)):\n",
    "    print(f\"El nombre es {nombre}, su emoji es {emoji}, el n random es {num} y su posición en la lista es {indice}\")"
   ]
  },
  {
   "cell_type": "markdown",
   "id": "virtual-tuner",
   "metadata": {},
   "source": [
    "### Iterar sobre los elementos de un diccionario"
   ]
  },
  {
   "cell_type": "code",
   "execution_count": 66,
   "id": "future-desperate",
   "metadata": {},
   "outputs": [],
   "source": [
    "diccionario = { \"Nombre\": \"Dobby\",\n",
    "               \"Raza\" : \"Galgo\",\n",
    "               \"Emoji\": \"🐶\",\n",
    "               \"Cosas que le gusta comer\": [{\"Carne\": [\"Pollo\", \"Ternera\"],\n",
    "                                            \"Fruta\": \"No come\"}]\n",
    "}"
   ]
  },
  {
   "cell_type": "code",
   "execution_count": 67,
   "id": "accredited-festival",
   "metadata": {},
   "outputs": [
    {
     "data": {
      "text/plain": [
       "dict_items([('Nombre', 'Dobby'), ('Raza', 'Galgo'), ('Emoji', '🐶'), ('Cosas que le gusta comer', [{'Carne': ['Pollo', 'Ternera'], 'Fruta': 'No come'}])])"
      ]
     },
     "execution_count": 67,
     "metadata": {},
     "output_type": "execute_result"
    }
   ],
   "source": [
    "diccionario.items()"
   ]
  },
  {
   "cell_type": "code",
   "execution_count": 68,
   "id": "naughty-belle",
   "metadata": {},
   "outputs": [
    {
     "data": {
      "text/plain": [
       "dict_keys(['Nombre', 'Raza', 'Emoji', 'Cosas que le gusta comer'])"
      ]
     },
     "execution_count": 68,
     "metadata": {},
     "output_type": "execute_result"
    }
   ],
   "source": [
    "diccionario.keys()"
   ]
  },
  {
   "cell_type": "code",
   "execution_count": 69,
   "id": "conceptual-replication",
   "metadata": {},
   "outputs": [
    {
     "data": {
      "text/plain": [
       "dict_values(['Dobby', 'Galgo', '🐶', [{'Carne': ['Pollo', 'Ternera'], 'Fruta': 'No come'}]])"
      ]
     },
     "execution_count": 69,
     "metadata": {},
     "output_type": "execute_result"
    }
   ],
   "source": [
    "diccionario.values()"
   ]
  },
  {
   "cell_type": "code",
   "execution_count": 70,
   "id": "motivated-syndrome",
   "metadata": {},
   "outputs": [
    {
     "name": "stdout",
     "output_type": "stream",
     "text": [
      "Nombre\n",
      "Raza\n",
      "Emoji\n",
      "Cosas que le gusta comer\n"
     ]
    }
   ],
   "source": [
    "# iteramos sobre las keys\n",
    "for key in diccionario.keys():\n",
    "    print(key)"
   ]
  },
  {
   "cell_type": "code",
   "execution_count": 71,
   "id": "sacred-mystery",
   "metadata": {},
   "outputs": [
    {
     "name": "stdout",
     "output_type": "stream",
     "text": [
      "Dobby\n",
      "Galgo\n",
      "🐶\n",
      "[{'Carne': ['Pollo', 'Ternera'], 'Fruta': 'No come'}]\n"
     ]
    }
   ],
   "source": [
    "# iteramos sobre los values\n",
    "for value in diccionario.values():\n",
    "    print(value)"
   ]
  },
  {
   "cell_type": "code",
   "execution_count": 73,
   "id": "micro-difficulty",
   "metadata": {},
   "outputs": [
    {
     "name": "stdout",
     "output_type": "stream",
     "text": [
      "La key es Nombre ------>>>>>> Dobby\n",
      "La key es Raza ------>>>>>> Galgo\n",
      "La key es Emoji ------>>>>>> 🐶\n",
      "La key es Cosas que le gusta comer ------>>>>>> [{'Carne': ['Pollo', 'Ternera'], 'Fruta': 'No come'}]\n"
     ]
    }
   ],
   "source": [
    "for key,value in diccionario.items():\n",
    "    print(f\"La key es {key} ------>>>>>> {value}\") "
   ]
  },
  {
   "cell_type": "code",
   "execution_count": 75,
   "id": "developing-psychology",
   "metadata": {},
   "outputs": [
    {
     "name": "stdout",
     "output_type": "stream",
     "text": [
      "0 Nombre\n",
      "1 Raza\n",
      "2 Emoji\n",
      "3 Cosas que le gusta comer\n"
     ]
    }
   ],
   "source": [
    "for indice,elemento in enumerate(diccionario):\n",
    "    print(indice,elemento)"
   ]
  },
  {
   "cell_type": "code",
   "execution_count": 76,
   "id": "automatic-commission",
   "metadata": {},
   "outputs": [
    {
     "name": "stdout",
     "output_type": "stream",
     "text": [
      "0 Nombre Dobby\n",
      "1 Raza Galgo\n",
      "2 Emoji 🐶\n",
      "3 Cosas que le gusta comer [{'Carne': ['Pollo', 'Ternera'], 'Fruta': 'No come'}]\n"
     ]
    }
   ],
   "source": [
    "for indice,(key,value) in enumerate(diccionario.items()):\n",
    "    print(indice,key,value)"
   ]
  },
  {
   "cell_type": "code",
   "execution_count": 77,
   "id": "configured-alliance",
   "metadata": {},
   "outputs": [
    {
     "data": {
      "text/plain": [
       "[('Nombre', 'Dobby'),\n",
       " ('Raza', 'Galgo'),\n",
       " ('Emoji', '🐶'),\n",
       " ('Cosas que le gusta comer',\n",
       "  [{'Carne': ['Pollo', 'Ternera'], 'Fruta': 'No come'}])]"
      ]
     },
     "execution_count": 77,
     "metadata": {},
     "output_type": "execute_result"
    }
   ],
   "source": [
    "list(diccionario.items())"
   ]
  },
  {
   "cell_type": "code",
   "execution_count": 87,
   "id": "empty-folks",
   "metadata": {},
   "outputs": [],
   "source": [
    "lista = [(\"key\",3), (\"otra_key\",5), (\"hola\",2), (\"notengomásideas\",2)]"
   ]
  },
  {
   "cell_type": "code",
   "execution_count": 89,
   "id": "pacific-exclusion",
   "metadata": {},
   "outputs": [
    {
     "data": {
      "text/plain": [
       "('key', 3)"
      ]
     },
     "execution_count": 89,
     "metadata": {},
     "output_type": "execute_result"
    }
   ],
   "source": [
    "lista[0]"
   ]
  },
  {
   "cell_type": "code",
   "execution_count": 98,
   "id": "enabling-flash",
   "metadata": {},
   "outputs": [
    {
     "data": {
      "text/plain": [
       "'key'"
      ]
     },
     "execution_count": 98,
     "metadata": {},
     "output_type": "execute_result"
    }
   ],
   "source": [
    "lista[0][0]"
   ]
  },
  {
   "cell_type": "code",
   "execution_count": 99,
   "id": "virgin-flower",
   "metadata": {},
   "outputs": [
    {
     "data": {
      "text/plain": [
       "'k'"
      ]
     },
     "execution_count": 99,
     "metadata": {},
     "output_type": "execute_result"
    }
   ],
   "source": [
    "lista[0][0][0]"
   ]
  },
  {
   "cell_type": "code",
   "execution_count": 88,
   "id": "noble-means",
   "metadata": {},
   "outputs": [
    {
     "data": {
      "text/plain": [
       "{'key': 3, 'otra_key': 5, 'hola': 2, 'notengomásideas': 2}"
      ]
     },
     "execution_count": 88,
     "metadata": {},
     "output_type": "execute_result"
    }
   ],
   "source": [
    "dict(lista)"
   ]
  },
  {
   "cell_type": "code",
   "execution_count": 102,
   "id": "capital-recruitment",
   "metadata": {},
   "outputs": [
    {
     "name": "stdout",
     "output_type": "stream",
     "text": [
      "{'key': 3, 'otra_key': 5, 'hola': 2, 'notengomásideas': 2}\n"
     ]
    }
   ],
   "source": [
    "diccio_vacio = {}\n",
    "for elemento in lista:\n",
    "    diccio_vacio[elemento[0]] = elemento[1]\n",
    "\n",
    "# El print está fuera del bucle                 \n",
    "print(diccio_vacio)"
   ]
  },
  {
   "cell_type": "code",
   "execution_count": 104,
   "id": "australian-indiana",
   "metadata": {},
   "outputs": [
    {
     "name": "stdout",
     "output_type": "stream",
     "text": [
      "{'key': 3, 'otra_key': 5, 'hola': 2, 'notengomásideas': 2}\n"
     ]
    }
   ],
   "source": [
    "diccionario = dict(lista)\n",
    "print(diccionario)"
   ]
  },
  {
   "cell_type": "code",
   "execution_count": 110,
   "id": "stretch-deputy",
   "metadata": {},
   "outputs": [],
   "source": [
    "lista = [\"key\", \"hola\"]"
   ]
  },
  {
   "cell_type": "code",
   "execution_count": 111,
   "id": "loved-kentucky",
   "metadata": {},
   "outputs": [],
   "source": [
    "# Duda de Silvia \n",
    "\"\"\"\n",
    "Hacemos un diccionario nuevo a raíz de otro, quedándonos con las keys que hay en una lista\n",
    "\"\"\"\n",
    "diccio_nuevo = {}\n",
    "for palabra in lista: # iteramos por la lista de palabras\n",
    "    diccio_nuevo[palabra] = diccionario[palabra] #asignamos al diccionario nuevo el VALUE del otro diccionario\n",
    "    # que corresponde con esa key de la lista\n",
    "    # asumiendo que en el otro diccionario ESTÁ ESA KEY"
   ]
  },
  {
   "cell_type": "code",
   "execution_count": 107,
   "id": "limiting-cooperation",
   "metadata": {},
   "outputs": [
    {
     "data": {
      "text/plain": [
       "{'key': 3, 'hola': 2}"
      ]
     },
     "execution_count": 107,
     "metadata": {},
     "output_type": "execute_result"
    }
   ],
   "source": [
    "diccio_nuevo"
   ]
  },
  {
   "cell_type": "markdown",
   "id": "banned-irish",
   "metadata": {},
   "source": [
    "## Break"
   ]
  },
  {
   "cell_type": "markdown",
   "id": "civilian-coordinate",
   "metadata": {},
   "source": [
    "Podemos literalmente \"romper\" una recursión cuando se cumple una condición"
   ]
  },
  {
   "cell_type": "code",
   "execution_count": 112,
   "id": "suitable-network",
   "metadata": {},
   "outputs": [],
   "source": [
    "grupos = [\"Rufus T. Firefly\", \"Viva Suecia\", \"Standstill\",\"Bowie\", \"Fuel Fandango\"]"
   ]
  },
  {
   "cell_type": "code",
   "execution_count": 118,
   "id": "reverse-religious",
   "metadata": {},
   "outputs": [
    {
     "name": "stdout",
     "output_type": "stream",
     "text": [
      "Rufus T. Firefly hace temazos\n",
      "16\n",
      "Viva Suecia hace temazos\n",
      "11\n",
      "Standstill hace temazos\n",
      "10\n",
      "Bowie hace temazos\n",
      "5\n"
     ]
    }
   ],
   "source": [
    "for grupo in grupos:\n",
    "    print(f\"{grupo} hace temazos\")\n",
    "    print(len(grupo))\n",
    "    if len(grupo) <= 6:\n",
    "        break"
   ]
  },
  {
   "cell_type": "code",
   "execution_count": 121,
   "id": "endless-sword",
   "metadata": {},
   "outputs": [
    {
     "name": "stdout",
     "output_type": "stream",
     "text": [
      "Rufus T. Firefly hace temazos\n",
      "16\n",
      "Viva Suecia hace temazos\n",
      "11\n",
      "Standstill hace temazos\n",
      "10\n",
      "Bowie hace temazos\n",
      "5\n"
     ]
    }
   ],
   "source": [
    "for grupo in grupos:\n",
    "    print(f\"{grupo} hace temazos\")\n",
    "    print(len(grupo))\n",
    "    if grupo.startswith(\"B\"):\n",
    "        break"
   ]
  },
  {
   "cell_type": "code",
   "execution_count": 123,
   "id": "happy-problem",
   "metadata": {},
   "outputs": [
    {
     "name": "stdout",
     "output_type": "stream",
     "text": [
      "Rufus T. Firefly hace temazos\n",
      "16\n",
      "Viva Suecia hace temazos\n",
      "11\n",
      "Standstill hace temazos\n",
      "10\n",
      "Bowie hace temazos\n",
      "5\n",
      "Fuel Fandango hace temazos\n",
      "13\n"
     ]
    }
   ],
   "source": [
    "for elemento in grupos:\n",
    "    print(f\"{elemento} hace temazos\")\n",
    "    print(len(elemento))\n",
    "    if elemento.startswith(\"B\"):\n",
    "        pass #PASS NO HACE PUTO NADA"
   ]
  },
  {
   "cell_type": "markdown",
   "id": "animated-population",
   "metadata": {},
   "source": [
    "## Resumen\n",
    "Es tu turno ¿qué hemos aprendido hoy?\n",
    "- Pass para dejar algo en stadnby, no hace nada\n",
    "- La función enumerate (iteramos sobre índice y elemento de un iterable a la vez)\n",
    "- ZIP (iteramos sobre varias listas a la vez)\n",
    "- While (bucle que continúa mientras se cumpla una condición, mientras la condición sea TRUE)\n",
    "- While TRUE para cuando le ponemos un BREAK.\n",
    "- NoneType\n",
    "- Bucle For (que lo utilizamos cuando conocemos las veces que necesitamos iterar) / número determinado, por ejemplo una lista.\n",
    "- print(end = \",\") añade una coma en vez de un salto de línea que viene por defecto.\n",
    "- range (genera un rango de números)\n",
    "- start, stop, step (los parámetros de range)"
   ]
  }
 ],
 "metadata": {
  "kernelspec": {
   "display_name": "Python 3",
   "language": "python",
   "name": "python3"
  },
  "language_info": {
   "codemirror_mode": {
    "name": "ipython",
    "version": 3
   },
   "file_extension": ".py",
   "mimetype": "text/x-python",
   "name": "python",
   "nbconvert_exporter": "python",
   "pygments_lexer": "ipython3",
   "version": "3.8.5"
  },
  "toc": {
   "base_numbering": 1,
   "nav_menu": {},
   "number_sections": true,
   "sideBar": true,
   "skip_h1_title": true,
   "title_cell": "Table of Contents",
   "title_sidebar": "Contents",
   "toc_cell": true,
   "toc_position": {},
   "toc_section_display": true,
   "toc_window_display": false
  }
 },
 "nbformat": 4,
 "nbformat_minor": 5
}
