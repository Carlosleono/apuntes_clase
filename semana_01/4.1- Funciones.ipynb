{
 "cells": [
  {
   "cell_type": "markdown",
   "id": "worldwide-hometown",
   "metadata": {},
   "source": [
    "# Programación Funcional"
   ]
  },
  {
   "cell_type": "markdown",
   "id": "conceptual-behalf",
   "metadata": {},
   "source": [
    "![elgif](https://media.giphy.com/media/CuMiNoTRz2bYc/giphy.gif)"
   ]
  },
  {
   "cell_type": "markdown",
   "id": "incorrect-serum",
   "metadata": {
    "toc": true
   },
   "source": [
    "<h1>Table of Contents<span class=\"tocSkip\"></span></h1>\n",
    "<div class=\"toc\"><ul class=\"toc-item\"><li><span><a href=\"#Vuestras-aportaciones-🚀\" data-toc-modified-id=\"Vuestras-aportaciones-🚀-1\"><span class=\"toc-item-num\">1&nbsp;&nbsp;</span>Vuestras aportaciones 🚀</a></span></li><li><span><a href=\"#¿Qué-es-la-programación-funcional?\" data-toc-modified-id=\"¿Qué-es-la-programación-funcional?-2\"><span class=\"toc-item-num\">2&nbsp;&nbsp;</span>¿Qué es la programación funcional?</a></span></li><li><span><a href=\"#Funciones-Built-in\" data-toc-modified-id=\"Funciones-Built-in-3\"><span class=\"toc-item-num\">3&nbsp;&nbsp;</span>Funciones Built-in</a></span></li><li><span><a href=\"#Extraer-el-código-fuente-de-una-función\" data-toc-modified-id=\"Extraer-el-código-fuente-de-una-función-4\"><span class=\"toc-item-num\">4&nbsp;&nbsp;</span>Extraer el código fuente de una función</a></span></li><li><span><a href=\"#Sintaxis-de-las-funciones\" data-toc-modified-id=\"Sintaxis-de-las-funciones-5\"><span class=\"toc-item-num\">5&nbsp;&nbsp;</span>Sintaxis de las funciones</a></span></li><li><span><a href=\"#Parámetros-vs-Argumentos\" data-toc-modified-id=\"Parámetros-vs-Argumentos-6\"><span class=\"toc-item-num\">6&nbsp;&nbsp;</span>Parámetros vs Argumentos</a></span></li><li><span><a href=\"#Funciones-que-no-tienen-parámetros\" data-toc-modified-id=\"Funciones-que-no-tienen-parámetros-7\"><span class=\"toc-item-num\">7&nbsp;&nbsp;</span>Funciones que no tienen parámetros</a></span></li><li><span><a href=\"#Funciones-que-no-tienen-return\" data-toc-modified-id=\"Funciones-que-no-tienen-return-8\"><span class=\"toc-item-num\">8&nbsp;&nbsp;</span>Funciones que no tienen return</a></span></li><li><span><a href=\"#Escribamos-funciones\" data-toc-modified-id=\"Escribamos-funciones-9\"><span class=\"toc-item-num\">9&nbsp;&nbsp;</span>Escribamos funciones</a></span></li><li><span><a href=\"#Parámetros-por-defecto\" data-toc-modified-id=\"Parámetros-por-defecto-10\"><span class=\"toc-item-num\">10&nbsp;&nbsp;</span>Parámetros por defecto</a></span><ul class=\"toc-item\"><li><ul class=\"toc-item\"><li><span><a href=\"#Otro-ejemplo\" data-toc-modified-id=\"Otro-ejemplo-10.0.1\"><span class=\"toc-item-num\">10.0.1&nbsp;&nbsp;</span>Otro ejemplo</a></span></li></ul></li></ul></li><li><span><a href=\"#PARFAVAR-No-confundamos-los-PRINT-dentro-de-una-función-con-los-RETURN!\" data-toc-modified-id=\"PARFAVAR-No-confundamos-los-PRINT-dentro-de-una-función-con-los-RETURN!-11\"><span class=\"toc-item-num\">11&nbsp;&nbsp;</span>PARFAVAR No confundamos los PRINT dentro de una función con los RETURN!</a></span></li><li><span><a href=\"#Docstring\" data-toc-modified-id=\"Docstring-12\"><span class=\"toc-item-num\">12&nbsp;&nbsp;</span>Docstring</a></span></li><li><span><a href=\"#Scope-de-las-funciones\" data-toc-modified-id=\"Scope-de-las-funciones-13\"><span class=\"toc-item-num\">13&nbsp;&nbsp;</span>Scope de las funciones</a></span></li><li><span><a href=\"#*Args\" data-toc-modified-id=\"*Args-14\"><span class=\"toc-item-num\">14&nbsp;&nbsp;</span>*Args</a></span></li><li><span><a href=\"#**Kwargs\" data-toc-modified-id=\"**Kwargs-15\"><span class=\"toc-item-num\">15&nbsp;&nbsp;</span>**Kwargs</a></span></li><li><span><a href=\"#El-orden-importa\" data-toc-modified-id=\"El-orden-importa-16\"><span class=\"toc-item-num\">16&nbsp;&nbsp;</span>El orden importa</a></span></li><li><span><a href=\"#Lambda\" data-toc-modified-id=\"Lambda-17\"><span class=\"toc-item-num\">17&nbsp;&nbsp;</span>Lambda</a></span><ul class=\"toc-item\"><li><span><a href=\"#Sintaxis-de-una-lambda\" data-toc-modified-id=\"Sintaxis-de-una-lambda-17.1\"><span class=\"toc-item-num\">17.1&nbsp;&nbsp;</span>Sintaxis de una lambda</a></span></li><li><span><a href=\"#Ejemplos-de-lambda\" data-toc-modified-id=\"Ejemplos-de-lambda-17.2\"><span class=\"toc-item-num\">17.2&nbsp;&nbsp;</span>Ejemplos de lambda</a></span></li><li><span><a href=\"#Hagámoslo-Fácil-🙃\" data-toc-modified-id=\"Hagámoslo-Fácil-🙃-17.3\"><span class=\"toc-item-num\">17.3&nbsp;&nbsp;</span>Hagámoslo Fácil 🙃</a></span></li></ul></li><li><span><a href=\"#Recursividad\" data-toc-modified-id=\"Recursividad-18\"><span class=\"toc-item-num\">18&nbsp;&nbsp;</span>Recursividad</a></span></li><li><span><a href=\"#Resolución-de-los-ejercicios-del-lab-list-comprehension\" data-toc-modified-id=\"Resolución-de-los-ejercicios-del-lab-list-comprehension-19\"><span class=\"toc-item-num\">19&nbsp;&nbsp;</span>Resolución de los ejercicios del lab list comprehension</a></span></li><li><span><a href=\"#Resumen\" data-toc-modified-id=\"Resumen-20\"><span class=\"toc-item-num\">20&nbsp;&nbsp;</span>Resumen</a></span></li></ul></div>"
   ]
  },
  {
   "cell_type": "markdown",
   "id": "wound-portland",
   "metadata": {},
   "source": [
    "## Vuestras aportaciones 🚀\n",
    "- Devuelven cosas * \n",
    "- SImplifican procesos\n",
    "- Reciben cosas * \n",
    "- Se definen con def\n",
    "- Aglutinan conceptos\n",
    "- Aautomatizan operaciones\n",
    "- Agrupan código\n",
    "- Return ¿qué es?\n",
    "- Operación generalizada\n",
    "- Parámetros\n",
    "- Hay que definirlas *\n",
    "- Las utilizamos con variables\n",
    "- Pueden incluir otras funciones\n",
    "- Tienes que llamarlas * \n",
    "- Variables locales que no afectan al resto del código\n",
    "- Global\n",
    "- Incluimos conjunto de funciones dentro de una librería\n",
    "- Una cosa\n",
    "- Caja negra *\n",
    "- Se pueden reutilizar *\n",
    "- Pueden utilizar lógica matemática\n",
    "- Los argumentos / parámetros no necesitan estar definidos dentro **\n",
    "- \n"
   ]
  },
  {
   "cell_type": "markdown",
   "id": "paperback-stock",
   "metadata": {},
   "source": [
    "## ¿Qué es la programación funcional?\n",
    "¿Qué significa que Python es multiparadigma?\n",
    "Según Wikipedia:\n",
    "\n",
    "“Python es un lenguaje de programación interpretado cuya filosofía hace hincapié en la legibilidad de su código. Se trata de un lenguaje de programación multiparadigma, ya que soporta orientación a objetos, programación imperativa y, en menor medida, programación funcional.”\n",
    "\n",
    "Quiere decir que acepta diversas formar de trabajar con el lenguaje. Básicamente existen 3 paradigmas predominantes, o dicho de otra manera, 3 formatos globales de organizar un código.\n",
    "\n",
    "**Programación imperativa (estructurada)**: el código será ejecutado desde el principio del fichero al final sin seguir ningún tipo de desviación. Su mayor ventaja radica en su simplicidad y poco peso. Su peligrosidad es el código espagueti, archivos con centenares o miles de líneas donde solo unos pocos seres humanos son capaces de modificar y salir victoriosos.\n",
    "\n",
    "**Programación orientada a objetos (OOP o Object Oriented Programming)**: donde se encapsulan las variables y funciones en pequeños módulos capaces de clonarse y modificarse. Su punto fuerte es la capacidad de re-utilización y aislamiento para evitar problemas con otras funcionalidades. La parte negativa recae en la complejidad de crear buenos objetos y la depuración.\n",
    "\n",
    "**Programación funcional (FP o Functional programming)**: donde el código se reparte en sencillas funciones capaces de ser invocadas con variables u otras funciones. Su facilidad de uso por atomicidad logra un mantenimiento sólido y compatible con casi cualquier lenguaje. Además su inmutabilidad de variables evita gran parte de los problemas que si sufre la programación orientada a objetos."
   ]
  },
  {
   "cell_type": "code",
   "execution_count": 1,
   "id": "brilliant-divorce",
   "metadata": {},
   "outputs": [],
   "source": [
    "def primeritafuncion():\n",
    "    pass"
   ]
  },
  {
   "cell_type": "markdown",
   "id": "worse-grace",
   "metadata": {},
   "source": [
    "## Funciones Built-in "
   ]
  },
  {
   "cell_type": "markdown",
   "id": "occasional-embassy",
   "metadata": {},
   "source": [
    "El intérprete de Python tiene una serie de funciones y tipos incluidos en él que están siempre disponibles. Están listados [aquí](https://docs.python.org/es/3/library/functions.html?highlight=built) en orden alfabético."
   ]
  },
  {
   "cell_type": "markdown",
   "id": "remarkable-stopping",
   "metadata": {},
   "source": [
    "## Extraer el código fuente de una función\n",
    "Ya que hablamos de las built-int, por curiosidad, si necesitamos extraer el código de una función escrita anteriormente.....\n"
   ]
  },
  {
   "cell_type": "code",
   "execution_count": 3,
   "id": "independent-neutral",
   "metadata": {},
   "outputs": [
    {
     "name": "stdout",
     "output_type": "stream",
     "text": [
      "def primeritafuncion():\n",
      "    pass\n",
      "\n"
     ]
    }
   ],
   "source": [
    "import inspect\n",
    "print(inspect.getsource(primeritafuncion))"
   ]
  },
  {
   "cell_type": "markdown",
   "id": "southwest-antenna",
   "metadata": {},
   "source": [
    "En caso de las built-in functions no podemos extraer el código con inspect, ya que Python en sí mismo está escrito en C... la función Print tiene este aspecto 👇🏻"
   ]
  },
  {
   "cell_type": "markdown",
   "id": "through-silicon",
   "metadata": {},
   "source": [
    "```C\n",
    "static PyObject *\n",
    "builtin_print(PyObject *self, PyObject *args, PyObject *kwds)\n",
    "{\n",
    "    static char *kwlist[] = {\"sep\", \"end\", \"file\", 0};\n",
    "    static PyObject *dummy_args = NULL;\n",
    "    static PyObject *unicode_newline = NULL, *unicode_space = NULL;\n",
    "    static PyObject *str_newline = NULL, *str_space = NULL;\n",
    "    PyObject *newline, *space;\n",
    "    PyObject *sep = NULL, *end = NULL, *file = NULL;\n",
    "    int i, err, use_unicode = 0;\n",
    "\n",
    "    if (dummy_args == NULL) {\n",
    "        if (!(dummy_args = PyTuple_New(0)))\n",
    "            return NULL;\n",
    "    }\n",
    "    if (str_newline == NULL) {\n",
    "        str_newline = PyString_FromString(\"\\n\");\n",
    "        if (str_newline == NULL)\n",
    "            return NULL;\n",
    "        str_space = PyString_FromString(\" \");\n",
    "        if (str_space == NULL) {\n",
    "            Py_CLEAR(str_newline);\n",
    "            return NULL;\n",
    "        }\n",
    "#ifdef Py_USING_UNICODE\n",
    "        unicode_newline = PyUnicode_FromString(\"\\n\");\n",
    "        if (unicode_newline == NULL) {\n",
    "            Py_CLEAR(str_newline);\n",
    "            Py_CLEAR(str_space);\n",
    "            return NULL;\n",
    "        }\n",
    "        unicode_space = PyUnicode_FromString(\" \");\n",
    "        if (unicode_space == NULL) {\n",
    "            Py_CLEAR(str_newline);\n",
    "            Py_CLEAR(str_space);\n",
    "            Py_CLEAR(unicode_space);\n",
    "            return NULL;\n",
    "        }\n",
    "#endif\n",
    "    }\n",
    "    if (!PyArg_ParseTupleAndKeywords(dummy_args, kwds, \"|OOO:print\",\n",
    "                                     kwlist, &sep, &end, &file))\n",
    "        return NULL;\n",
    "    if (file == NULL || file == Py_None) {\n",
    "        file = PySys_GetObject(\"stdout\");\n",
    "        /* sys.stdout may be None when FILE* stdout isn't connected */\n",
    "        if (file == Py_None)\n",
    "            Py_RETURN_NONE;\n",
    "    }\n",
    "    if (sep == Py_None) {\n",
    "        sep = NULL;\n",
    "    }\n",
    "    else if (sep) {\n",
    "        if (PyUnicode_Check(sep)) {\n",
    "            use_unicode = 1;\n",
    "        }\n",
    "        else if (!PyString_Check(sep)) {\n",
    "            PyErr_Format(PyExc_TypeError,\n",
    "                         \"sep must be None, str or unicode, not %.200s\",\n",
    "                         sep->ob_type->tp_name);\n",
    "            return NULL;\n",
    "        }\n",
    "    }\n",
    "    if (end == Py_None)\n",
    "        end = NULL;\n",
    "    else if (end) {\n",
    "        if (PyUnicode_Check(end)) {\n",
    "            use_unicode = 1;\n",
    "        }\n",
    "        else if (!PyString_Check(end)) {\n",
    "            PyErr_Format(PyExc_TypeError,\n",
    "                         \"end must be None, str or unicode, not %.200s\",\n",
    "                         end->ob_type->tp_name);\n",
    "            return NULL;\n",
    "        }\n",
    "    }\n",
    "\n",
    "    if (!use_unicode) {\n",
    "        for (i = 0; i < PyTuple_Size(args); i++) {\n",
    "            if (PyUnicode_Check(PyTuple_GET_ITEM(args, i))) {\n",
    "                use_unicode = 1;\n",
    "                break;\n",
    "            }\n",
    "        }\n",
    "    }\n",
    "    if (use_unicode) {\n",
    "        newline = unicode_newline;\n",
    "        space = unicode_space;\n",
    "    }\n",
    "    else {\n",
    "        newline = str_newline;\n",
    "        space = str_space;\n",
    "    }\n",
    "\n",
    "    for (i = 0; i < PyTuple_Size(args); i++) {\n",
    "        if (i > 0) {\n",
    "            if (sep == NULL)\n",
    "                err = PyFile_WriteObject(space, file,\n",
    "                                         Py_PRINT_RAW);\n",
    "            else\n",
    "                err = PyFile_WriteObject(sep, file,\n",
    "                                         Py_PRINT_RAW);\n",
    "            if (err)\n",
    "                return NULL;\n",
    "        }\n",
    "        err = PyFile_WriteObject(PyTuple_GetItem(args, i), file,\n",
    "                                 Py_PRINT_RAW);\n",
    "        if (err)\n",
    "            return NULL;\n",
    "    }\n",
    "\n",
    "    if (end == NULL)\n",
    "        err = PyFile_WriteObject(newline, file, Py_PRINT_RAW);\n",
    "    else\n",
    "        err = PyFile_WriteObject(end, file, Py_PRINT_RAW);\n",
    "    if (err)\n",
    "        return NULL;\n",
    "\n",
    "    Py_RETURN_NONE;\n",
    "}\n",
    "```"
   ]
  },
  {
   "cell_type": "markdown",
   "id": "fatal-accused",
   "metadata": {},
   "source": [
    "## Sintaxis de las funciones\n",
    "\n",
    "Sintaxis para la definición de una función:\n",
    "```python\n",
    "\n",
    "def nombre_funcion(argumentos de entrada):\n",
    "    # los dos puntos y la indentacion implican estar en la funcion\n",
    "    realiza un accion\n",
    "    return()   # devuelven cierto valor\n",
    "\n",
    "```\n",
    "\n",
    "Ejecución de la función: \n",
    "```python\n",
    "nombre_de_la_función(argumento1, argumento2, ...)\n",
    "```\n",
    "o, si quieres guardar el resultado en una variable  \n",
    "```python\n",
    "resultado = nombre_de_la_función(argumento1, argumento2, ...)\n",
    "```"
   ]
  },
  {
   "cell_type": "markdown",
   "id": "directed-clark",
   "metadata": {},
   "source": [
    "## Parámetros vs Argumentos\n",
    "Los parámetros formales para una función se enumeran en la declaración de la función y se utilizan en el cuerpo de la definición de la función.\n",
    "\n",
    "Un argumento es lo que se usa haciendo referencia a los parámetros. Cuando escribe una llamada de función, los argumentos se enumeran entre paréntesis después del nombre de la función. Cuando se ejecuta la llamada a la función, los argumentos se insertan para los parámetros.\n",
    "\n",
    "Digamos entonces que, los parámetros, son esas variables \"imaginarias\" que van a tener el mismo nombre en la definición y en el cuerpo de la función.       \n",
    "Los argumentos son los DATOS REALES que utilizamos cuando llamamos a la función."
   ]
  },
  {
   "cell_type": "markdown",
   "id": "combined-service",
   "metadata": {},
   "source": [
    "## Funciones que no tienen parámetros"
   ]
  },
  {
   "cell_type": "code",
   "execution_count": 7,
   "id": "occupational-singing",
   "metadata": {},
   "outputs": [],
   "source": [
    "def saluda():\n",
    "    return \"Hola amiga\""
   ]
  },
  {
   "cell_type": "code",
   "execution_count": 8,
   "id": "front-namibia",
   "metadata": {},
   "outputs": [
    {
     "data": {
      "text/plain": [
       "'Hola amiga'"
      ]
     },
     "execution_count": 8,
     "metadata": {},
     "output_type": "execute_result"
    }
   ],
   "source": [
    "saluda()"
   ]
  },
  {
   "cell_type": "markdown",
   "id": "measured-manual",
   "metadata": {},
   "source": [
    "## Funciones que no tienen return\n",
    "Hacen \"cosas\" pero no devuelven nada... y si una función no tiene return, entonces devuelve:         \n",
    "```python\n",
    "None\n",
    "```\n"
   ]
  },
  {
   "cell_type": "code",
   "execution_count": 9,
   "id": "compatible-safety",
   "metadata": {},
   "outputs": [
    {
     "name": "stdout",
     "output_type": "stream",
     "text": [
      "Hola Mundo\n"
     ]
    }
   ],
   "source": [
    "guardo = print(\"Hola Mundo\")"
   ]
  },
  {
   "cell_type": "code",
   "execution_count": 10,
   "id": "further-cotton",
   "metadata": {},
   "outputs": [],
   "source": [
    "guardo"
   ]
  },
  {
   "cell_type": "code",
   "execution_count": 12,
   "id": "operational-flood",
   "metadata": {},
   "outputs": [
    {
     "data": {
      "text/plain": [
       "NoneType"
      ]
     },
     "execution_count": 12,
     "metadata": {},
     "output_type": "execute_result"
    }
   ],
   "source": [
    "type(guardo)"
   ]
  },
  {
   "cell_type": "markdown",
   "id": "sufficient-buying",
   "metadata": {},
   "source": [
    "## Escribamos funciones"
   ]
  },
  {
   "cell_type": "code",
   "execution_count": 91,
   "id": "intellectual-might",
   "metadata": {},
   "outputs": [],
   "source": [
    "def suma(uno,otro):\n",
    "    return uno + otro"
   ]
  },
  {
   "cell_type": "code",
   "execution_count": 14,
   "id": "bright-assets",
   "metadata": {},
   "outputs": [],
   "source": [
    "a = 4\n",
    "b = 59"
   ]
  },
  {
   "cell_type": "code",
   "execution_count": 16,
   "id": "synthetic-olive",
   "metadata": {},
   "outputs": [
    {
     "data": {
      "text/plain": [
       "63"
      ]
     },
     "execution_count": 16,
     "metadata": {},
     "output_type": "execute_result"
    }
   ],
   "source": [
    "sumar(a,b)"
   ]
  },
  {
   "cell_type": "code",
   "execution_count": 18,
   "id": "synthetic-layer",
   "metadata": {},
   "outputs": [
    {
     "data": {
      "text/plain": [
       "8"
      ]
     },
     "execution_count": 18,
     "metadata": {},
     "output_type": "execute_result"
    }
   ],
   "source": [
    "sumar(5,3)"
   ]
  },
  {
   "cell_type": "code",
   "execution_count": 40,
   "id": "sporting-collective",
   "metadata": {},
   "outputs": [],
   "source": [
    "def saluda_bien(nombre):\n",
    "    return f\"Hola {nombre}\""
   ]
  },
  {
   "cell_type": "code",
   "execution_count": 36,
   "id": "spanish-dubai",
   "metadata": {},
   "outputs": [
    {
     "data": {
      "text/plain": [
       "'HolaRas'"
      ]
     },
     "execution_count": 36,
     "metadata": {},
     "output_type": "execute_result"
    }
   ],
   "source": [
    "saluda_bien(\"Ras\")"
   ]
  },
  {
   "cell_type": "code",
   "execution_count": 37,
   "id": "peaceful-chosen",
   "metadata": {},
   "outputs": [],
   "source": [
    "persona = \"Pepe\""
   ]
  },
  {
   "cell_type": "code",
   "execution_count": 42,
   "id": "satisfactory-civilian",
   "metadata": {},
   "outputs": [
    {
     "data": {
      "text/plain": [
       "'Hola Pepe'"
      ]
     },
     "execution_count": 42,
     "metadata": {},
     "output_type": "execute_result"
    }
   ],
   "source": [
    "saluda_bien(persona)"
   ]
  },
  {
   "cell_type": "code",
   "execution_count": 43,
   "id": "european-correlation",
   "metadata": {},
   "outputs": [
    {
     "data": {
      "text/plain": [
       "'Hola 4'"
      ]
     },
     "execution_count": 43,
     "metadata": {},
     "output_type": "execute_result"
    }
   ],
   "source": [
    "saluda_bien(4)"
   ]
  },
  {
   "cell_type": "markdown",
   "id": "ongoing-apple",
   "metadata": {},
   "source": [
    "**Ejemplo**: Me dan una hora con el siguiente formato: \"04:52\", minutos y segundos. Calcule el número entero de segundos.  "
   ]
  },
  {
   "cell_type": "code",
   "execution_count": 44,
   "id": "nominated-bankruptcy",
   "metadata": {},
   "outputs": [],
   "source": [
    "t = \"04:52\""
   ]
  },
  {
   "cell_type": "code",
   "execution_count": 45,
   "id": "continent-japan",
   "metadata": {},
   "outputs": [
    {
     "data": {
      "text/plain": [
       "['04', '52']"
      ]
     },
     "execution_count": 45,
     "metadata": {},
     "output_type": "execute_result"
    }
   ],
   "source": [
    "t.split(\":\")"
   ]
  },
  {
   "cell_type": "code",
   "execution_count": 46,
   "id": "straight-improvement",
   "metadata": {},
   "outputs": [],
   "source": [
    "minutos, segundos = t.split(\":\")"
   ]
  },
  {
   "cell_type": "code",
   "execution_count": 53,
   "id": "tutorial-prefix",
   "metadata": {},
   "outputs": [],
   "source": [
    "total = int(minutos) * 60 + int(segundos)"
   ]
  },
  {
   "cell_type": "code",
   "execution_count": 54,
   "id": "dense-dimension",
   "metadata": {},
   "outputs": [
    {
     "data": {
      "text/plain": [
       "292"
      ]
     },
     "execution_count": 54,
     "metadata": {},
     "output_type": "execute_result"
    }
   ],
   "source": [
    "total"
   ]
  },
  {
   "cell_type": "markdown",
   "id": "advisory-moscow",
   "metadata": {},
   "source": [
    "Tenemos un montón de código para UNA sola funcionalidad, que podríamos REUTILIZAR para diferentes casos     \n",
    "**PARA ESTO ESTÁN LAS FUNCIONES**     \n",
    "A continuación, lo convertimos en una función"
   ]
  },
  {
   "cell_type": "code",
   "execution_count": 90,
   "id": "divine-making",
   "metadata": {},
   "outputs": [],
   "source": [
    "def total_secs(string_hora):\n",
    "    minutos, segundos = string_hora.split(\":\")\n",
    "    total = int(minutos) * 60 + int(segundos)\n",
    "    return total"
   ]
  },
  {
   "cell_type": "code",
   "execution_count": 89,
   "id": "threaded-morgan",
   "metadata": {},
   "outputs": [
    {
     "name": "stdout",
     "output_type": "stream",
     "text": [
      "Estoy ejecutando una operación 35\n"
     ]
    },
    {
     "data": {
      "text/plain": [
       "408"
      ]
     },
     "execution_count": 89,
     "metadata": {},
     "output_type": "execute_result"
    }
   ],
   "source": [
    "total_secs(hora)"
   ]
  },
  {
   "cell_type": "code",
   "execution_count": 59,
   "id": "comprehensive-validity",
   "metadata": {},
   "outputs": [],
   "source": [
    "hora = \"06:48\""
   ]
  },
  {
   "cell_type": "code",
   "execution_count": 61,
   "id": "statutory-relative",
   "metadata": {},
   "outputs": [
    {
     "data": {
      "text/plain": [
       "408"
      ]
     },
     "execution_count": 61,
     "metadata": {},
     "output_type": "execute_result"
    }
   ],
   "source": [
    "total_secs(hora)"
   ]
  },
  {
   "cell_type": "code",
   "execution_count": 69,
   "id": "useful-helicopter",
   "metadata": {},
   "outputs": [
    {
     "name": "stdout",
     "output_type": "stream",
     "text": [
      "362\n"
     ]
    }
   ],
   "source": [
    "print(total_secs(\"05:62\"))"
   ]
  },
  {
   "cell_type": "code",
   "execution_count": 68,
   "id": "billion-intermediate",
   "metadata": {},
   "outputs": [
    {
     "data": {
      "text/plain": [
       "408"
      ]
     },
     "execution_count": 68,
     "metadata": {},
     "output_type": "execute_result"
    }
   ],
   "source": [
    "resultado = total_secs(hora)\n",
    "resultado"
   ]
  },
  {
   "cell_type": "code",
   "execution_count": 62,
   "id": "induced-express",
   "metadata": {},
   "outputs": [],
   "source": [
    "varias_horas = [\"04:52\", \"08:34\", \"05:33\"]"
   ]
  },
  {
   "cell_type": "code",
   "execution_count": 72,
   "id": "tired-plane",
   "metadata": {},
   "outputs": [
    {
     "name": "stdout",
     "output_type": "stream",
     "text": [
      "292\n",
      "514\n",
      "333\n"
     ]
    }
   ],
   "source": [
    "for elemento in varias_horas:\n",
    "    print(total_secs(elemento))"
   ]
  },
  {
   "cell_type": "code",
   "execution_count": 64,
   "id": "excess-position",
   "metadata": {},
   "outputs": [],
   "source": [
    "horas_modificadas = [total_secs(h) for h in varias_horas]"
   ]
  },
  {
   "cell_type": "code",
   "execution_count": 65,
   "id": "sixth-progressive",
   "metadata": {},
   "outputs": [
    {
     "data": {
      "text/plain": [
       "[292, 514, 333]"
      ]
     },
     "execution_count": 65,
     "metadata": {},
     "output_type": "execute_result"
    }
   ],
   "source": [
    "horas_modificadas"
   ]
  },
  {
   "cell_type": "markdown",
   "id": "wrapped-minimum",
   "metadata": {},
   "source": [
    "## Parámetros por defecto"
   ]
  },
  {
   "cell_type": "code",
   "execution_count": 113,
   "id": "southwest-jordan",
   "metadata": {},
   "outputs": [],
   "source": [
    "def saluda(nombre, idioma=\"es\"):\n",
    "    if idioma == \"es\":\n",
    "        return f\"Hola {nombre}\"\n",
    "    elif idioma == \"en\":\n",
    "        return f\"Hello {nombre}\"\n",
    "    else: \n",
    "        return f\"No sé qué idioma es ese pero 👋🏻 {nombre}\""
   ]
  },
  {
   "cell_type": "code",
   "execution_count": 93,
   "id": "fewer-focus",
   "metadata": {},
   "outputs": [
    {
     "data": {
      "text/plain": [
       "'Hola Ras'"
      ]
     },
     "execution_count": 93,
     "metadata": {},
     "output_type": "execute_result"
    }
   ],
   "source": [
    "saluda(\"Ras\", \"es\")"
   ]
  },
  {
   "cell_type": "code",
   "execution_count": 94,
   "id": "marine-president",
   "metadata": {},
   "outputs": [
    {
     "data": {
      "text/plain": [
       "'Hello Ras'"
      ]
     },
     "execution_count": 94,
     "metadata": {},
     "output_type": "execute_result"
    }
   ],
   "source": [
    "saluda(\"Ras\", \"en\")"
   ]
  },
  {
   "cell_type": "code",
   "execution_count": 95,
   "id": "purple-buffalo",
   "metadata": {},
   "outputs": [
    {
     "data": {
      "text/plain": [
       "'No sé qué idioma es ese pero 👋🏻 Ras'"
      ]
     },
     "execution_count": 95,
     "metadata": {},
     "output_type": "execute_result"
    }
   ],
   "source": [
    "saluda(\"Ras\", \"adflkjaf\")"
   ]
  },
  {
   "cell_type": "code",
   "execution_count": 96,
   "id": "italic-westminster",
   "metadata": {},
   "outputs": [
    {
     "data": {
      "text/plain": [
       "'Hola Ras'"
      ]
     },
     "execution_count": 96,
     "metadata": {},
     "output_type": "execute_result"
    }
   ],
   "source": [
    "saluda(\"Ras\")"
   ]
  },
  {
   "cell_type": "code",
   "execution_count": 99,
   "id": "future-dealing",
   "metadata": {},
   "outputs": [],
   "source": [
    "nombres = [\"Sonia\", \"Ana\", \"Ras\", \"Alumnado\", \"Dobby\"]"
   ]
  },
  {
   "cell_type": "code",
   "execution_count": 104,
   "id": "supreme-nothing",
   "metadata": {},
   "outputs": [
    {
     "name": "stdout",
     "output_type": "stream",
     "text": [
      "Hola Sonia\n",
      "Hola Ana\n",
      "Hola Ras\n",
      "Hola Alumnado\n",
      "Hola Dobby\n"
     ]
    }
   ],
   "source": [
    "for n in nombres:\n",
    "    print(saluda(n))"
   ]
  },
  {
   "cell_type": "code",
   "execution_count": 135,
   "id": "comparative-increase",
   "metadata": {},
   "outputs": [],
   "source": [
    "def saluda_sin_defecto(nombre, idioma):\n",
    "    if idioma == \"es\":\n",
    "        return f\"Hola {nombre}\"\n",
    "    elif idioma == \"en\":\n",
    "        return f\"Hello {nombre}\"\n",
    "    else: \n",
    "        return f\"No sé qué idioma es ese pero 👋🏻 {nombre}\""
   ]
  },
  {
   "cell_type": "code",
   "execution_count": 102,
   "id": "latin-nurse",
   "metadata": {},
   "outputs": [
    {
     "ename": "TypeError",
     "evalue": "saluda_sin_defecto() missing 1 required positional argument: 'idioma'",
     "output_type": "error",
     "traceback": [
      "\u001b[0;31m---------------------------------------------------------------------------\u001b[0m",
      "\u001b[0;31mTypeError\u001b[0m                                 Traceback (most recent call last)",
      "\u001b[0;32m<ipython-input-102-4ed61d78507c>\u001b[0m in \u001b[0;36m<module>\u001b[0;34m\u001b[0m\n\u001b[0;32m----> 1\u001b[0;31m \u001b[0msaluda_sin_defecto\u001b[0m\u001b[0;34m(\u001b[0m\u001b[0;34m\"Ras\"\u001b[0m\u001b[0;34m)\u001b[0m\u001b[0;34m\u001b[0m\u001b[0;34m\u001b[0m\u001b[0m\n\u001b[0m",
      "\u001b[0;31mTypeError\u001b[0m: saluda_sin_defecto() missing 1 required positional argument: 'idioma'"
     ]
    }
   ],
   "source": [
    "saluda_sin_defecto(\"Ras\") #Falta un argumento posicional, dará error"
   ]
  },
  {
   "cell_type": "markdown",
   "id": "overhead-private",
   "metadata": {},
   "source": [
    "#### Otro ejemplo"
   ]
  },
  {
   "cell_type": "code",
   "execution_count": 116,
   "id": "enclosed-performer",
   "metadata": {},
   "outputs": [],
   "source": [
    "def cuadrados(num):\n",
    "    return num ** 2"
   ]
  },
  {
   "cell_type": "code",
   "execution_count": 117,
   "id": "marine-anthropology",
   "metadata": {},
   "outputs": [],
   "source": [
    "numerito = 3"
   ]
  },
  {
   "cell_type": "code",
   "execution_count": 120,
   "id": "ethical-darkness",
   "metadata": {},
   "outputs": [
    {
     "data": {
      "text/plain": [
       "9"
      ]
     },
     "execution_count": 120,
     "metadata": {},
     "output_type": "execute_result"
    }
   ],
   "source": [
    "cuadrado_numerito = cuadrados(numerito)\n",
    "cuadrado_numerito"
   ]
  },
  {
   "cell_type": "code",
   "execution_count": 131,
   "id": "narrow-clearance",
   "metadata": {},
   "outputs": [],
   "source": [
    "cualquier_cuadrado = cuadrados(6)"
   ]
  },
  {
   "cell_type": "code",
   "execution_count": 133,
   "id": "finite-baltimore",
   "metadata": {},
   "outputs": [],
   "source": [
    "resultado = cuadrados(9)"
   ]
  },
  {
   "cell_type": "code",
   "execution_count": 134,
   "id": "appointed-collar",
   "metadata": {},
   "outputs": [
    {
     "name": "stdout",
     "output_type": "stream",
     "text": [
      "16\n"
     ]
    }
   ],
   "source": [
    "print(cuadrados(4))"
   ]
  },
  {
   "cell_type": "code",
   "execution_count": 121,
   "id": "binary-station",
   "metadata": {},
   "outputs": [],
   "source": [
    "lista_nums = [1,2,3,4,5,6,7,8,9]"
   ]
  },
  {
   "cell_type": "code",
   "execution_count": 136,
   "id": "coupled-pricing",
   "metadata": {},
   "outputs": [
    {
     "name": "stdout",
     "output_type": "stream",
     "text": [
      "[1, 4, 9, 16, 25, 36, 49, 64, 81]\n"
     ]
    }
   ],
   "source": [
    "lista_cuadrados_com = [cuadrados(n) for n in lista_nums]\n",
    "print(lista_cuadrados_com)"
   ]
  },
  {
   "cell_type": "code",
   "execution_count": 124,
   "id": "pending-theology",
   "metadata": {},
   "outputs": [
    {
     "data": {
      "text/plain": [
       "['SONIA', 'ANA', 'RAS', 'ALUMNADO', 'DOBBY']"
      ]
     },
     "execution_count": 124,
     "metadata": {},
     "output_type": "execute_result"
    }
   ],
   "source": [
    "nombres_com = [nombre.upper() for nombre in nombres]\n",
    "nombres_com"
   ]
  },
  {
   "cell_type": "code",
   "execution_count": 149,
   "id": "august-traffic",
   "metadata": {},
   "outputs": [],
   "source": [
    "# Esta función devuelve una lista\n",
    "def devuelveunalista(lista):\n",
    "    modificada = [elemento.upper() for elemento in lista]\n",
    "    return modificada"
   ]
  },
  {
   "cell_type": "code",
   "execution_count": 148,
   "id": "precise-czech",
   "metadata": {},
   "outputs": [
    {
     "data": {
      "text/plain": [
       "['SONIA', 'ANA', 'RAS', 'ALUMNADO', 'DOBBY']"
      ]
     },
     "execution_count": 148,
     "metadata": {},
     "output_type": "execute_result"
    }
   ],
   "source": [
    "devuelveunalista(nombres)"
   ]
  },
  {
   "cell_type": "markdown",
   "id": "challenging-essence",
   "metadata": {},
   "source": [
    "## PARFAVAR No confundamos los PRINT dentro de una función con los RETURN!"
   ]
  },
  {
   "cell_type": "code",
   "execution_count": 106,
   "id": "anonymous-aluminum",
   "metadata": {},
   "outputs": [],
   "source": [
    "def saluda_mal(nombre, idioma):\n",
    "    if idioma == \"es\":\n",
    "        print (f\"Hola {nombre}\")\n",
    "    elif idioma == \"en\":\n",
    "        print (f\"Hello {nombre}\")\n",
    "    else: \n",
    "        print (f\"No sé qué idioma es ese pero 👋🏻 {nombre}\")"
   ]
  },
  {
   "cell_type": "code",
   "execution_count": 109,
   "id": "loving-sperm",
   "metadata": {},
   "outputs": [
    {
     "name": "stdout",
     "output_type": "stream",
     "text": [
      "No sé qué idioma es ese pero 👋🏻 Sonia\n",
      "No sé qué idioma es ese pero 👋🏻 Ana\n",
      "No sé qué idioma es ese pero 👋🏻 Ras\n",
      "No sé qué idioma es ese pero 👋🏻 Alumnado\n",
      "No sé qué idioma es ese pero 👋🏻 Dobby\n"
     ]
    }
   ],
   "source": [
    "for nombre in nombres:\n",
    "    saluda_mal(nombre, \"hoadhjf\")"
   ]
  },
  {
   "cell_type": "code",
   "execution_count": 111,
   "id": "going-picture",
   "metadata": {},
   "outputs": [
    {
     "name": "stdout",
     "output_type": "stream",
     "text": [
      "Hello Sonia\n",
      "Hello Ana\n",
      "Hello Ras\n",
      "Hello Alumnado\n",
      "Hello Dobby\n"
     ]
    }
   ],
   "source": [
    "saludos_comp = [saluda_mal(nombre,\"en\") for nombre in nombres]"
   ]
  },
  {
   "cell_type": "code",
   "execution_count": 112,
   "id": "pharmaceutical-apple",
   "metadata": {},
   "outputs": [
    {
     "data": {
      "text/plain": [
       "[None, None, None, None, None]"
      ]
     },
     "execution_count": 112,
     "metadata": {},
     "output_type": "execute_result"
    }
   ],
   "source": [
    "saludos_comp"
   ]
  },
  {
   "cell_type": "code",
   "execution_count": 114,
   "id": "celtic-hollow",
   "metadata": {},
   "outputs": [],
   "source": [
    "saludos_comp_bien = [saluda(nombre) for nombre in nombres]"
   ]
  },
  {
   "cell_type": "code",
   "execution_count": 115,
   "id": "built-tunisia",
   "metadata": {},
   "outputs": [
    {
     "data": {
      "text/plain": [
       "['Hola Sonia', 'Hola Ana', 'Hola Ras', 'Hola Alumnado', 'Hola Dobby']"
      ]
     },
     "execution_count": 115,
     "metadata": {},
     "output_type": "execute_result"
    }
   ],
   "source": [
    "saludos_comp_bien"
   ]
  },
  {
   "cell_type": "markdown",
   "id": "missing-honey",
   "metadata": {},
   "source": [
    "## Docstring\n",
    "El código se escribe 1 vez.  \n",
    "El código se lee 100 veces.  \n",
    "Ayuda a tus compañeros a entender tu trabajo.  \n",
    "![lafoto](https://res.cloudinary.com/highflyer910/image/upload/v1589577574/1_1_httqnc.jpg)\n",
    "En este ejemplo, hemos definido una función gato que devuelve miau. Hemos declarado un docstring que explica lo que hace la función. Para obtener el docstring de una función, necesitamos mostrar el atributo doc (print(cat.__doc__))     \n",
    "Referencia de la foto, la descripción y más info sobre docstring [aquí](https://techiestuff.netlify.app/blog/what-is-a-python-docstring/)"
   ]
  },
  {
   "cell_type": "code",
   "execution_count": 153,
   "id": "involved-warner",
   "metadata": {},
   "outputs": [],
   "source": [
    "def funcioncita():\n",
    "    \"\"\"\n",
    "    Ejemplo de docstrings de varias líneas\n",
    "    Recibe dos números enteros y devuelve uno multiplicado por otro\n",
    "    \"\"\"\n",
    "    pass"
   ]
  },
  {
   "cell_type": "code",
   "execution_count": 152,
   "id": "finnish-representative",
   "metadata": {},
   "outputs": [],
   "source": [
    "def otroejemplo_docstring():\n",
    "    \"\"\"Ejemplo de una línea\"\"\"\n",
    "    pass"
   ]
  },
  {
   "cell_type": "code",
   "execution_count": 165,
   "id": "multiple-basin",
   "metadata": {},
   "outputs": [
    {
     "name": "stdout",
     "output_type": "stream",
     "text": [
      "\n",
      "    Ejemplo de docstrings de varias líneas\n",
      "    Recibe dos números enteros y devuelve uno multiplicado por otro\n",
      "    \n"
     ]
    }
   ],
   "source": [
    "print(funcioncita.__doc__)"
   ]
  },
  {
   "cell_type": "code",
   "execution_count": 163,
   "id": "described-sample",
   "metadata": {},
   "outputs": [
    {
     "name": "stdout",
     "output_type": "stream",
     "text": [
      "Help on function funcioncita in module __main__:\n",
      "\n",
      "funcioncita()\n",
      "    Ejemplo de docstrings de varias líneas\n",
      "    Recibe dos números enteros y devuelve uno multiplicado por otro\n",
      "\n"
     ]
    }
   ],
   "source": [
    "help(funcioncita)"
   ]
  },
  {
   "cell_type": "code",
   "execution_count": 164,
   "id": "productive-converter",
   "metadata": {},
   "outputs": [
    {
     "data": {
      "text/plain": [
       "'Ejemplo de una línea'"
      ]
     },
     "execution_count": 164,
     "metadata": {},
     "output_type": "execute_result"
    }
   ],
   "source": [
    "otroejemplo_docstring.__doc__"
   ]
  },
  {
   "cell_type": "code",
   "execution_count": 156,
   "id": "australian-curtis",
   "metadata": {},
   "outputs": [
    {
     "name": "stdout",
     "output_type": "stream",
     "text": [
      "Help on function otroejemplo_docstring in module __main__:\n",
      "\n",
      "otroejemplo_docstring()\n",
      "    Ejemplo de una línea\n",
      "\n"
     ]
    }
   ],
   "source": [
    "help(otroejemplo_docstring)"
   ]
  },
  {
   "cell_type": "markdown",
   "id": "valid-briefing",
   "metadata": {},
   "source": [
    "## Scope de las funciones"
   ]
  },
  {
   "cell_type": "code",
   "execution_count": 173,
   "id": "great-freeze",
   "metadata": {},
   "outputs": [],
   "source": [
    "num_= 4 # Es una variable que todo el código puede ver"
   ]
  },
  {
   "cell_type": "code",
   "execution_count": 231,
   "id": "taken-edgar",
   "metadata": {},
   "outputs": [],
   "source": [
    "def sumar(b):\n",
    "    # b Es una variable que realmente no existe hasta que llamamos a la función y que el resto del código no puede ver\n",
    "    m = 40 # Definida dentro de la función, ámbito de la función. El resto del código no puede verla\n",
    "    m += num_\n",
    "    return b+m"
   ]
  },
  {
   "cell_type": "code",
   "execution_count": 171,
   "id": "bulgarian-purpose",
   "metadata": {},
   "outputs": [
    {
     "ename": "NameError",
     "evalue": "name 'm' is not defined",
     "output_type": "error",
     "traceback": [
      "\u001b[0;31m---------------------------------------------------------------------------\u001b[0m",
      "\u001b[0;31mNameError\u001b[0m                                 Traceback (most recent call last)",
      "\u001b[0;32m<ipython-input-171-9a40b379906c>\u001b[0m in \u001b[0;36m<module>\u001b[0;34m\u001b[0m\n\u001b[0;32m----> 1\u001b[0;31m \u001b[0mm\u001b[0m\u001b[0;34m\u001b[0m\u001b[0;34m\u001b[0m\u001b[0m\n\u001b[0m",
      "\u001b[0;31mNameError\u001b[0m: name 'm' is not defined"
     ]
    }
   ],
   "source": [
    "m"
   ]
  },
  {
   "cell_type": "code",
   "execution_count": 172,
   "id": "limiting-illness",
   "metadata": {},
   "outputs": [
    {
     "data": {
      "text/plain": [
       "51"
      ]
     },
     "execution_count": 172,
     "metadata": {},
     "output_type": "execute_result"
    }
   ],
   "source": [
    "sumar(7)"
   ]
  },
  {
   "cell_type": "code",
   "execution_count": 177,
   "id": "suited-diagram",
   "metadata": {},
   "outputs": [],
   "source": [
    "a = 3\n",
    "b = 4"
   ]
  },
  {
   "cell_type": "code",
   "execution_count": 180,
   "id": "ancient-guard",
   "metadata": {},
   "outputs": [],
   "source": [
    "def suma(a,b):\n",
    "    print(a)\n",
    "    return a+b"
   ]
  },
  {
   "cell_type": "code",
   "execution_count": 181,
   "id": "looking-brave",
   "metadata": {},
   "outputs": [
    {
     "name": "stdout",
     "output_type": "stream",
     "text": [
      "5\n"
     ]
    },
    {
     "data": {
      "text/plain": [
       "13"
      ]
     },
     "execution_count": 181,
     "metadata": {},
     "output_type": "execute_result"
    }
   ],
   "source": [
    "suma(5,8)"
   ]
  },
  {
   "cell_type": "code",
   "execution_count": 179,
   "id": "parental-environment",
   "metadata": {},
   "outputs": [
    {
     "data": {
      "text/plain": [
       "3"
      ]
     },
     "execution_count": 179,
     "metadata": {},
     "output_type": "execute_result"
    }
   ],
   "source": [
    "a"
   ]
  },
  {
   "cell_type": "markdown",
   "id": "affecting-benchmark",
   "metadata": {},
   "source": [
    "## *Args\n",
    "En Python, el parámetro especial *args en una función se usa para pasar, de forma opcional, un número variable de argumentos posicionales."
   ]
  },
  {
   "cell_type": "code",
   "execution_count": 182,
   "id": "impossible-uncertainty",
   "metadata": {},
   "outputs": [],
   "source": [
    "def suma(a,b):\n",
    "    return a + b"
   ]
  },
  {
   "cell_type": "code",
   "execution_count": 183,
   "id": "becoming-inspection",
   "metadata": {},
   "outputs": [
    {
     "data": {
      "text/plain": [
       "5"
      ]
     },
     "execution_count": 183,
     "metadata": {},
     "output_type": "execute_result"
    }
   ],
   "source": [
    "suma(1,4)"
   ]
  },
  {
   "cell_type": "code",
   "execution_count": 184,
   "id": "circular-plaza",
   "metadata": {},
   "outputs": [
    {
     "ename": "TypeError",
     "evalue": "suma() takes 2 positional arguments but 5 were given",
     "output_type": "error",
     "traceback": [
      "\u001b[0;31m---------------------------------------------------------------------------\u001b[0m",
      "\u001b[0;31mTypeError\u001b[0m                                 Traceback (most recent call last)",
      "\u001b[0;32m<ipython-input-184-1025dce9884b>\u001b[0m in \u001b[0;36m<module>\u001b[0;34m\u001b[0m\n\u001b[0;32m----> 1\u001b[0;31m \u001b[0msuma\u001b[0m\u001b[0;34m(\u001b[0m\u001b[0;36m1\u001b[0m\u001b[0;34m,\u001b[0m\u001b[0;36m4\u001b[0m\u001b[0;34m,\u001b[0m\u001b[0;36m5\u001b[0m\u001b[0;34m,\u001b[0m\u001b[0;36m7\u001b[0m\u001b[0;34m,\u001b[0m\u001b[0;36m8\u001b[0m\u001b[0;34m)\u001b[0m\u001b[0;34m\u001b[0m\u001b[0;34m\u001b[0m\u001b[0m\n\u001b[0m",
      "\u001b[0;31mTypeError\u001b[0m: suma() takes 2 positional arguments but 5 were given"
     ]
    }
   ],
   "source": [
    "suma(1,4,5,7,8)"
   ]
  },
  {
   "cell_type": "code",
   "execution_count": 185,
   "id": "nominated-massachusetts",
   "metadata": {},
   "outputs": [],
   "source": [
    "def suma(*args):\n",
    "    print(args)\n",
    "    temp = 0\n",
    "    for n in args:\n",
    "        temp += n\n",
    "    return temp"
   ]
  },
  {
   "cell_type": "code",
   "execution_count": 186,
   "id": "final-basement",
   "metadata": {},
   "outputs": [
    {
     "name": "stdout",
     "output_type": "stream",
     "text": [
      "(4,)\n"
     ]
    },
    {
     "data": {
      "text/plain": [
       "4"
      ]
     },
     "execution_count": 186,
     "metadata": {},
     "output_type": "execute_result"
    }
   ],
   "source": [
    "suma(4)"
   ]
  },
  {
   "cell_type": "code",
   "execution_count": 202,
   "id": "experienced-horse",
   "metadata": {},
   "outputs": [
    {
     "name": "stdout",
     "output_type": "stream",
     "text": [
      "(1, 5, 2, 4, 5)\n"
     ]
    },
    {
     "data": {
      "text/plain": [
       "17"
      ]
     },
     "execution_count": 202,
     "metadata": {},
     "output_type": "execute_result"
    }
   ],
   "source": [
    "suma(1,5,2,4,5)"
   ]
  },
  {
   "cell_type": "code",
   "execution_count": null,
   "id": "obvious-design",
   "metadata": {},
   "outputs": [],
   "source": [
    "suma"
   ]
  },
  {
   "cell_type": "code",
   "execution_count": 189,
   "id": "civilian-school",
   "metadata": {},
   "outputs": [],
   "source": [
    "def suma_lista(elementos):\n",
    "    temp = 0\n",
    "    for n in elementos:\n",
    "        temp += n\n",
    "    return temp"
   ]
  },
  {
   "cell_type": "code",
   "execution_count": 204,
   "id": "sudden-tamil",
   "metadata": {},
   "outputs": [
    {
     "ename": "TypeError",
     "evalue": "suma_lista() takes 1 positional argument but 4 were given",
     "output_type": "error",
     "traceback": [
      "\u001b[0;31m---------------------------------------------------------------------------\u001b[0m",
      "\u001b[0;31mTypeError\u001b[0m                                 Traceback (most recent call last)",
      "\u001b[0;32m<ipython-input-204-6968d9fd04b0>\u001b[0m in \u001b[0;36m<module>\u001b[0;34m\u001b[0m\n\u001b[0;32m----> 1\u001b[0;31m \u001b[0msuma_lista\u001b[0m\u001b[0;34m(\u001b[0m\u001b[0;36m1\u001b[0m\u001b[0;34m,\u001b[0m\u001b[0;36m2\u001b[0m\u001b[0;34m,\u001b[0m\u001b[0;36m4\u001b[0m\u001b[0;34m,\u001b[0m\u001b[0;36m5\u001b[0m\u001b[0;34m)\u001b[0m\u001b[0;34m\u001b[0m\u001b[0;34m\u001b[0m\u001b[0m\n\u001b[0m",
      "\u001b[0;31mTypeError\u001b[0m: suma_lista() takes 1 positional argument but 4 were given"
     ]
    }
   ],
   "source": [
    "suma_lista(1,2,4,5)"
   ]
  },
  {
   "cell_type": "code",
   "execution_count": 210,
   "id": "after-darkness",
   "metadata": {},
   "outputs": [],
   "source": [
    "def suma_todo(unalista,*args):\n",
    "    total1 = sum(unalista)\n",
    "    total2 = sum(args)\n",
    "    return total1 + total2"
   ]
  },
  {
   "cell_type": "code",
   "execution_count": 212,
   "id": "focused-remedy",
   "metadata": {},
   "outputs": [
    {
     "data": {
      "text/plain": [
       "36"
      ]
     },
     "execution_count": 212,
     "metadata": {},
     "output_type": "execute_result"
    }
   ],
   "source": [
    "suma_todo([5,6,7,8],1,2,3,4)"
   ]
  },
  {
   "cell_type": "code",
   "execution_count": 198,
   "id": "competitive-involvement",
   "metadata": {},
   "outputs": [],
   "source": [
    "def hacecosas(dicc, lista):\n",
    "    return list(dicc.keys()), sum(lista)"
   ]
  },
  {
   "cell_type": "code",
   "execution_count": 199,
   "id": "premier-version",
   "metadata": {},
   "outputs": [],
   "source": [
    "persona = {\"Nombre\": \"Pepe\", \"edad\": 33}"
   ]
  },
  {
   "cell_type": "code",
   "execution_count": 200,
   "id": "blocked-parallel",
   "metadata": {},
   "outputs": [],
   "source": [
    "nums = [1,2,3,45,56,7,8]"
   ]
  },
  {
   "cell_type": "code",
   "execution_count": 201,
   "id": "focal-frequency",
   "metadata": {},
   "outputs": [
    {
     "data": {
      "text/plain": [
       "(['Nombre', 'edad'], 122)"
      ]
     },
     "execution_count": 201,
     "metadata": {},
     "output_type": "execute_result"
    }
   ],
   "source": [
    "hacecosas(persona,nums)"
   ]
  },
  {
   "cell_type": "code",
   "execution_count": 192,
   "id": "saving-ocean",
   "metadata": {},
   "outputs": [
    {
     "data": {
      "text/plain": [
       "122"
      ]
     },
     "execution_count": 192,
     "metadata": {},
     "output_type": "execute_result"
    }
   ],
   "source": [
    "suma_lista(nums)"
   ]
  },
  {
   "cell_type": "code",
   "execution_count": 194,
   "id": "reflected-coordination",
   "metadata": {},
   "outputs": [
    {
     "data": {
      "text/plain": [
       "122"
      ]
     },
     "execution_count": 194,
     "metadata": {},
     "output_type": "execute_result"
    }
   ],
   "source": [
    "sum(nums)"
   ]
  },
  {
   "cell_type": "code",
   "execution_count": 193,
   "id": "designing-tonight",
   "metadata": {},
   "outputs": [
    {
     "ename": "TypeError",
     "evalue": "can only concatenate list (not \"int\") to list",
     "output_type": "error",
     "traceback": [
      "\u001b[0;31m---------------------------------------------------------------------------\u001b[0m",
      "\u001b[0;31mTypeError\u001b[0m                                 Traceback (most recent call last)",
      "\u001b[0;32m<ipython-input-193-5e9e83fe29ad>\u001b[0m in \u001b[0;36m<module>\u001b[0;34m\u001b[0m\n\u001b[0;32m----> 1\u001b[0;31m \u001b[0msumar\u001b[0m\u001b[0;34m(\u001b[0m\u001b[0mnums\u001b[0m\u001b[0;34m)\u001b[0m\u001b[0;34m\u001b[0m\u001b[0;34m\u001b[0m\u001b[0m\n\u001b[0m",
      "\u001b[0;32m<ipython-input-174-7be7eec891a8>\u001b[0m in \u001b[0;36msumar\u001b[0;34m(b)\u001b[0m\n\u001b[1;32m      3\u001b[0m     \u001b[0mm\u001b[0m \u001b[0;34m=\u001b[0m \u001b[0;36m40\u001b[0m \u001b[0;31m# Esta\u001b[0m\u001b[0;34m\u001b[0m\u001b[0;34m\u001b[0m\u001b[0m\n\u001b[1;32m      4\u001b[0m     \u001b[0mm\u001b[0m \u001b[0;34m+=\u001b[0m \u001b[0mnum_\u001b[0m\u001b[0;34m\u001b[0m\u001b[0;34m\u001b[0m\u001b[0m\n\u001b[0;32m----> 5\u001b[0;31m     \u001b[0;32mreturn\u001b[0m \u001b[0mb\u001b[0m\u001b[0;34m+\u001b[0m\u001b[0mm\u001b[0m\u001b[0;34m\u001b[0m\u001b[0;34m\u001b[0m\u001b[0m\n\u001b[0m",
      "\u001b[0;31mTypeError\u001b[0m: can only concatenate list (not \"int\") to list"
     ]
    }
   ],
   "source": [
    "sumar(nums)"
   ]
  },
  {
   "cell_type": "markdown",
   "id": "further-maria",
   "metadata": {},
   "source": [
    "## **Kwargs"
   ]
  },
  {
   "cell_type": "markdown",
   "id": "twelve-notice",
   "metadata": {},
   "source": [
    "También podemos pasar como argumento un diccionario usando como claves los nombres de los parámetros (* *kwargs).\n",
    "Emplea * *kwargs para pasar de forma opcional a una función un número variable de argumentos con nombre.      \n",
    "Es un diccionario cuyas claves se convierten en parámetros y sus valores en los argumentos de los parámetros.    \n",
    "El parámetro * *kwargs recibe los argumentos como un diccionario.      "
   ]
  },
  {
   "cell_type": "code",
   "execution_count": 213,
   "id": "critical-timber",
   "metadata": {},
   "outputs": [],
   "source": [
    "def unafuncion(**kwargs):\n",
    "    for k,v in kwargs.items():\n",
    "        print(f\"{k} {v}\")"
   ]
  },
  {
   "cell_type": "code",
   "execution_count": 214,
   "id": "interracial-presentation",
   "metadata": {},
   "outputs": [],
   "source": [
    "diccionario = {\"Nombre\": \"Dobby\", \"Emoji\": \"🐶\", \"Nacimiento\": 2019}"
   ]
  },
  {
   "cell_type": "code",
   "execution_count": 216,
   "id": "sealed-things",
   "metadata": {},
   "outputs": [
    {
     "name": "stdout",
     "output_type": "stream",
     "text": [
      "Nombre Dobby\n",
      "Emoji 🐶\n",
      "Nacimiento 2019\n"
     ]
    }
   ],
   "source": [
    "unafuncion(**diccionario)"
   ]
  },
  {
   "cell_type": "code",
   "execution_count": 218,
   "id": "independent-possible",
   "metadata": {},
   "outputs": [],
   "source": [
    "def otrafuncion(**kwargs):\n",
    "    print(f\"El perrete se llama {kwargs['Nombre']}\")\n",
    "    print(f\"Nació en el año {kwargs['Nacimiento']}\")"
   ]
  },
  {
   "cell_type": "code",
   "execution_count": 219,
   "id": "surprised-landing",
   "metadata": {},
   "outputs": [
    {
     "name": "stdout",
     "output_type": "stream",
     "text": [
      "El perrete se llama Dobby\n",
      "Nació en el año 2019\n"
     ]
    }
   ],
   "source": [
    "otrafuncion(**diccionario)"
   ]
  },
  {
   "cell_type": "code",
   "execution_count": 220,
   "id": "unable-chile",
   "metadata": {},
   "outputs": [],
   "source": [
    "pepe = {\"country\":\"Macedonia\", \"first_name\":\"Pepe\", \"day\":8, \"month\":7, \"year\":1985, \"last_name\":\"García\"}"
   ]
  },
  {
   "cell_type": "code",
   "execution_count": 222,
   "id": "provincial-break",
   "metadata": {},
   "outputs": [],
   "source": [
    "import datetime\n",
    "now = datetime.datetime.now()"
   ]
  },
  {
   "cell_type": "code",
   "execution_count": 223,
   "id": "lovely-belarus",
   "metadata": {},
   "outputs": [
    {
     "data": {
      "text/plain": [
       "datetime.datetime(2021, 10, 21, 13, 9, 2, 612705)"
      ]
     },
     "execution_count": 223,
     "metadata": {},
     "output_type": "execute_result"
    }
   ],
   "source": [
    "now"
   ]
  },
  {
   "cell_type": "code",
   "execution_count": 225,
   "id": "cosmetic-weekly",
   "metadata": {},
   "outputs": [
    {
     "data": {
      "text/plain": [
       "2021"
      ]
     },
     "execution_count": 225,
     "metadata": {},
     "output_type": "execute_result"
    }
   ],
   "source": [
    "now.year"
   ]
  },
  {
   "cell_type": "code",
   "execution_count": 226,
   "id": "opening-nickname",
   "metadata": {},
   "outputs": [
    {
     "data": {
      "text/plain": [
       "13"
      ]
     },
     "execution_count": 226,
     "metadata": {},
     "output_type": "execute_result"
    }
   ],
   "source": [
    "now.hour"
   ]
  },
  {
   "cell_type": "code",
   "execution_count": 228,
   "id": "chicken-tampa",
   "metadata": {},
   "outputs": [],
   "source": [
    "def calculaedad(**kwargs):\n",
    "    now = datetime.datetime.now().year\n",
    "    edad = now - kwargs[\"year\"]\n",
    "    return edad"
   ]
  },
  {
   "cell_type": "code",
   "execution_count": 230,
   "id": "informal-choice",
   "metadata": {},
   "outputs": [
    {
     "data": {
      "text/plain": [
       "36"
      ]
     },
     "execution_count": 230,
     "metadata": {},
     "output_type": "execute_result"
    }
   ],
   "source": [
    "calculaedad(**pepe)"
   ]
  },
  {
   "cell_type": "markdown",
   "id": "retired-recorder",
   "metadata": {},
   "source": [
    "## El orden importa\n",
    "El orden de los parámetros a la hora de definir una función importa...\n",
    "```python\n",
    "def ejemplo(arg1, arg2, *args, **kwargs)\n",
    "```\n"
   ]
  },
  {
   "cell_type": "markdown",
   "id": "median-heart",
   "metadata": {},
   "source": [
    "## Lambda\n",
    "Una función lambda es una función anónima, sin identificador, que puede declararse in situ. Dado que podemos usar funciones como argumentos y asignarlas a variables, la notación que posibilita la creación de funciones lambda es muy práctica en muchos casos.\n",
    "### Sintaxis de una lambda\n",
    "```python\n",
    "lambda <lista de parámetros>: <expresión de retorno>\n",
    "```\n",
    "### Ejemplos de lambda"
   ]
  },
  {
   "cell_type": "code",
   "execution_count": 236,
   "id": "coordinate-baghdad",
   "metadata": {},
   "outputs": [
    {
     "data": {
      "text/plain": [
       "<function __main__.<lambda>(x, y)>"
      ]
     },
     "execution_count": 236,
     "metadata": {},
     "output_type": "execute_result"
    }
   ],
   "source": [
    "lambda a,b: a+b # Suma\n",
    "lambda x: x **2 # cuadrado\n",
    "lambda x: x[0] # Devuelve el primer elemento del argumento\n",
    "lambda x, y: x if x>y else y # Devuelve el mayor"
   ]
  },
  {
   "cell_type": "code",
   "execution_count": 234,
   "id": "continuous-kenya",
   "metadata": {},
   "outputs": [],
   "source": [
    "suma = lambda a,b: a + b"
   ]
  },
  {
   "cell_type": "code",
   "execution_count": 235,
   "id": "equipped-metallic",
   "metadata": {},
   "outputs": [
    {
     "data": {
      "text/plain": [
       "7"
      ]
     },
     "execution_count": 235,
     "metadata": {},
     "output_type": "execute_result"
    }
   ],
   "source": [
    "suma(1,6)"
   ]
  },
  {
   "cell_type": "markdown",
   "id": "diagnostic-general",
   "metadata": {},
   "source": [
    "### Hagámoslo Fácil 🙃"
   ]
  },
  {
   "cell_type": "code",
   "execution_count": 237,
   "id": "pressing-sheet",
   "metadata": {},
   "outputs": [],
   "source": [
    "# Otro ejemplo de lambda guardada en una variable\n",
    "saluda = lambda a: \"Hola\" if a < 5 else \"Adios\""
   ]
  },
  {
   "cell_type": "code",
   "execution_count": 238,
   "id": "valid-fiber",
   "metadata": {},
   "outputs": [
    {
     "data": {
      "text/plain": [
       "'Adios'"
      ]
     },
     "execution_count": 238,
     "metadata": {},
     "output_type": "execute_result"
    }
   ],
   "source": [
    "saluda(6)"
   ]
  },
  {
   "cell_type": "markdown",
   "id": "medium-module",
   "metadata": {},
   "source": [
    "También es posible usar estas funciones anónimas como argumentos en la llamada a otras funcoines. Por ejemplo, en una llamada a sorted() o list.sort() podemos usar una función lambda como argumento para el parámetro key:"
   ]
  },
  {
   "cell_type": "code",
   "execution_count": 239,
   "id": "settled-forestry",
   "metadata": {},
   "outputs": [],
   "source": [
    "distancias = [(\"Madrid\", 331), (\"Córdoba\", 117), (\"Barcelona\",798)]"
   ]
  },
  {
   "cell_type": "code",
   "execution_count": 241,
   "id": "electrical-hawaiian",
   "metadata": {},
   "outputs": [
    {
     "data": {
      "text/plain": [
       "[('Córdoba', 117), ('Madrid', 331), ('Barcelona', 798)]"
      ]
     },
     "execution_count": 241,
     "metadata": {},
     "output_type": "execute_result"
    }
   ],
   "source": [
    "#Ordenamos por la distancia, de menor a mayor by default \n",
    "sorted(distancias, key= lambda x: x[1])"
   ]
  },
  {
   "cell_type": "code",
   "execution_count": 242,
   "id": "lightweight-brand",
   "metadata": {},
   "outputs": [
    {
     "data": {
      "text/plain": [
       "[('Barcelona', 798), ('Madrid', 331), ('Córdoba', 117)]"
      ]
     },
     "execution_count": 242,
     "metadata": {},
     "output_type": "execute_result"
    }
   ],
   "source": [
    "#Ordenamos por distancia pero de mayor a menor, con reverse = True\n",
    "sorted(distancias, key= lambda x: x[1], reverse=True)"
   ]
  },
  {
   "cell_type": "code",
   "execution_count": 244,
   "id": "inner-distributor",
   "metadata": {},
   "outputs": [
    {
     "data": {
      "text/plain": [
       "[('Barcelona', 798), ('Córdoba', 117), ('Madrid', 331)]"
      ]
     },
     "execution_count": 244,
     "metadata": {},
     "output_type": "execute_result"
    }
   ],
   "source": [
    "sorted(distancias)"
   ]
  },
  {
   "cell_type": "code",
   "execution_count": 251,
   "id": "environmental-avatar",
   "metadata": {},
   "outputs": [
    {
     "data": {
      "text/plain": [
       "[('Barcelona', 798), ('Córdoba', 117), ('Madrid', 331)]"
      ]
     },
     "execution_count": 251,
     "metadata": {},
     "output_type": "execute_result"
    }
   ],
   "source": [
    "#Ordenamos alfabéticamente utilizando el primer elemento x[0]\n",
    "sorted(distancias, key=lambda x: x[0])"
   ]
  },
  {
   "cell_type": "code",
   "execution_count": null,
   "id": "complimentary-financing",
   "metadata": {},
   "outputs": [],
   "source": [
    "#Ordenamos alfabéticamente de final a principio utilizando reverse = True\n"
   ]
  },
  {
   "cell_type": "code",
   "execution_count": 247,
   "id": "worst-jaguar",
   "metadata": {},
   "outputs": [
    {
     "data": {
      "text/plain": [
       "['Alumnado', 'Ana', 'Ras', 'Sonia']"
      ]
     },
     "execution_count": 247,
     "metadata": {},
     "output_type": "execute_result"
    }
   ],
   "source": [
    "nombres = [\"Ras\", \"Alumnado\", \"Sonia\", \"Ana\"]\n",
    "sorted(nombres)"
   ]
  },
  {
   "cell_type": "code",
   "execution_count": 250,
   "id": "owned-tomorrow",
   "metadata": {},
   "outputs": [
    {
     "data": {
      "text/plain": [
       "['Ras', 'Ana', 'Sonia', 'Alumnado']"
      ]
     },
     "execution_count": 250,
     "metadata": {},
     "output_type": "execute_result"
    }
   ],
   "source": [
    "sorted(nombres, key=len)"
   ]
  },
  {
   "cell_type": "markdown",
   "id": "mexican-chambers",
   "metadata": {},
   "source": [
    "Por último, si queremos devolver como resultado de una función a otra función podemos usar cualquier función conocida en el ámbito de la función que realiza el retorno, o usar una función lambda:"
   ]
  },
  {
   "cell_type": "code",
   "execution_count": 261,
   "id": "alpha-affiliation",
   "metadata": {},
   "outputs": [],
   "source": [
    "def comparaciones(tipo):\n",
    "    \n",
    "    def mayor(a,b):\n",
    "        if a > b:\n",
    "            return a\n",
    "        else:\n",
    "            return b\n",
    "        \n",
    "    if tipo == \"Mayor\":\n",
    "        return mayor\n",
    "    \n",
    "    elif tipo == \"Menor\":\n",
    "        return lambda x,y: x if x < y else y"
   ]
  },
  {
   "cell_type": "code",
   "execution_count": 264,
   "id": "arctic-amino",
   "metadata": {},
   "outputs": [],
   "source": [
    "def comparaciones_igual(tipo):    \n",
    "    if tipo == \"Mayor\":\n",
    "        return lambda x,y: x if x > y else y\n",
    "    \n",
    "    elif tipo == \"Menor\":\n",
    "        return lambda x,y: x if x < y else y\n",
    "    else: \n",
    "        return \"Hola\""
   ]
  },
  {
   "cell_type": "code",
   "execution_count": 255,
   "id": "sufficient-unknown",
   "metadata": {},
   "outputs": [
    {
     "data": {
      "text/plain": [
       "6"
      ]
     },
     "execution_count": 255,
     "metadata": {},
     "output_type": "execute_result"
    }
   ],
   "source": [
    "comparaciones(\"Mayor\")(6,5)"
   ]
  },
  {
   "cell_type": "code",
   "execution_count": 262,
   "id": "royal-checklist",
   "metadata": {},
   "outputs": [
    {
     "data": {
      "text/plain": [
       "3"
      ]
     },
     "execution_count": 262,
     "metadata": {},
     "output_type": "execute_result"
    }
   ],
   "source": [
    "comparaciones(\"Menor\")(8,3)"
   ]
  },
  {
   "cell_type": "code",
   "execution_count": 271,
   "id": "incomplete-atmosphere",
   "metadata": {},
   "outputs": [
    {
     "data": {
      "text/plain": [
       "'.'"
      ]
     },
     "execution_count": 271,
     "metadata": {},
     "output_type": "execute_result"
    }
   ],
   "source": [
    "comparaciones_igual(\"Mayor\")(\".\",\"-\")"
   ]
  },
  {
   "cell_type": "markdown",
   "id": "spare-thompson",
   "metadata": {},
   "source": [
    "## Recursividad\n",
    "Se denomina llamada recursiva (o recursividad), a aquellas funciones que en su algoritmo, hacen referencia sí misma.\n",
    "\n",
    "Las llamadas recursivas suelen ser muy útiles en casos muy puntuales, pero debido a su gran factibilidad de caer en iteraciones infinitas, deben extremarse las medidas preventivas adecuadas y, solo utilizarse cuando sea estrictamente necesario y no exista una forma alternativa viable, que resuelva el problema evitando la recursividad.\n",
    "\n",
    "Python admite las llamadas recursivas, permitiendo a una función, llamarse a sí misma, de igual forma que lo hace cuando llama a otra función."
   ]
  },
  {
   "cell_type": "code",
   "execution_count": 284,
   "id": "egyptian-battery",
   "metadata": {},
   "outputs": [],
   "source": [
    "def jugar(intento = 1):\n",
    "    respuesta = input(\"¿De qué color es una naranja?  \")\n",
    "    if respuesta != \"Naranja\":\n",
    "        if intento < 3:\n",
    "            print(\"\\n Fallaste! Inténtalo de nuevo\")\n",
    "            intento +=1\n",
    "            jugar(intento) # Llamada recursiva\n",
    "        else:\n",
    "            print(\"\\n Perdiste\")\n",
    "    else:\n",
    "        print(\"Máquina 🙃\")"
   ]
  },
  {
   "cell_type": "code",
   "execution_count": 293,
   "id": "dramatic-corps",
   "metadata": {},
   "outputs": [],
   "source": [
    "import time\n",
    "def cuenta_atras(num):\n",
    "    num -=1\n",
    "    if num > 0:\n",
    "        print(num)\n",
    "        time.sleep(1)\n",
    "        cuenta_atras(num)\n",
    "    else:\n",
    "        print(\"Booooommmmmmmmmm 🔪🔥💣\")"
   ]
  },
  {
   "cell_type": "code",
   "execution_count": 294,
   "id": "laden-advocacy",
   "metadata": {},
   "outputs": [
    {
     "name": "stdout",
     "output_type": "stream",
     "text": [
      "5\n",
      "4\n",
      "3\n",
      "2\n",
      "1\n",
      "Booooommmmmmmmmm 🔪🔥💣\n"
     ]
    }
   ],
   "source": [
    "cuenta_atras(6)"
   ]
  },
  {
   "cell_type": "markdown",
   "id": "incoming-workshop",
   "metadata": {},
   "source": [
    "## Resolución de los ejercicios del lab list comprehension"
   ]
  },
  {
   "cell_type": "code",
   "execution_count": null,
   "id": "southeast-decimal",
   "metadata": {},
   "outputs": [],
   "source": [
    "mega_lista = [dato for lista_mediana in b for lista in lista_mediana for dato in lista]"
   ]
  },
  {
   "cell_type": "code",
   "execution_count": null,
   "id": "tamil-grenada",
   "metadata": {},
   "outputs": [],
   "source": [
    "lista2 = [dato[-1] for lista in b for dato in lista if dato[-1] <= 0.5]\n",
    "lista2"
   ]
  },
  {
   "cell_type": "code",
   "execution_count": null,
   "id": "posted-consent",
   "metadata": {},
   "outputs": [],
   "source": [
    "total = [nombre for nombre in os.listdir(\"../data\" )if nombre.endswith(\"csv\")]\n",
    "total"
   ]
  },
  {
   "cell_type": "markdown",
   "id": "appreciated-respect",
   "metadata": {},
   "source": [
    "## Resumen \n",
    "Es tu turno ¿Qué hemos aprendido hoy?\n",
    "- ME LO DEBÉIS 🔪"
   ]
  }
 ],
 "metadata": {
  "kernelspec": {
   "display_name": "ironhack",
   "language": "python",
   "name": "ironhack"
  },
  "language_info": {
   "codemirror_mode": {
    "name": "ipython",
    "version": 3
   },
   "file_extension": ".py",
   "mimetype": "text/x-python",
   "name": "python",
   "nbconvert_exporter": "python",
   "pygments_lexer": "ipython3",
   "version": "3.8.5"
  },
  "toc": {
   "base_numbering": 1,
   "nav_menu": {},
   "number_sections": true,
   "sideBar": true,
   "skip_h1_title": true,
   "title_cell": "Table of Contents",
   "title_sidebar": "Contents",
   "toc_cell": true,
   "toc_position": {},
   "toc_section_display": true,
   "toc_window_display": false
  }
 },
 "nbformat": 4,
 "nbformat_minor": 5
}
