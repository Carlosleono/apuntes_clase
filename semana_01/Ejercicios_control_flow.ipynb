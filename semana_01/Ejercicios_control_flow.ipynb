{
 "cells": [
  {
   "cell_type": "markdown",
   "id": "grateful-diana",
   "metadata": {},
   "source": [
    "# Retos para practicar bucles y condicionales 🚀🙃"
   ]
  },
  {
   "cell_type": "markdown",
   "id": "hearing-spelling",
   "metadata": {},
   "source": [
    "![elgif](https://media.giphy.com/media/lngw0pFJezv9vWdDq/giphy.gif)"
   ]
  },
  {
   "cell_type": "markdown",
   "id": "labeled-circumstances",
   "metadata": {},
   "source": [
    "## Ejercicio  🚀 (Recap if/else)\n",
    "Los alumnos de un curso se han dividido en dos grupos A y B de acuerdo al sexo y el nombre. El grupo A esta formado por las mujeres con un nombre anterior a la M y los hombres con un nombre posterior a la N y el grupo B por el resto. Escribir un programa que pregunte al usuario su nombre y sexo, y muestre por pantalla el grupo que le corresponde."
   ]
  },
  {
   "cell_type": "code",
   "execution_count": 1,
   "id": "worst-wayne",
   "metadata": {},
   "outputs": [
    {
     "name": "stdout",
     "output_type": "stream",
     "text": [
      "¿Cómo te llamas Ras\n",
      "Introduce género M o H H\n",
      "Grupo A\n"
     ]
    }
   ],
   "source": [
    "# tu código aquí\n",
    "nombre = input(\"¿Cómo te llamas \")\n",
    "genero = input(\"Introduce género M o H \")\n",
    "\n",
    "if genero == \"M\":\n",
    "    if nombre[0].lower() < \"m\":\n",
    "        print(\"Grupo A\")\n",
    "    else:\n",
    "        print(\"Grupo B\")\n",
    "else:\n",
    "    if nombre[0].lower() >= \"m\":\n",
    "        print(\"Grupo A\")\n",
    "    else:\n",
    "        print(\"Grupo B\")"
   ]
  },
  {
   "cell_type": "markdown",
   "id": "aware-compound",
   "metadata": {},
   "source": [
    "## Ejercicio  🚀 (while)\n",
    "Lee los números enteros del teclado, hasta que el usuario introduzca el 0. Finalmente, muestra la suma de todos los números positivos introducidos."
   ]
  },
  {
   "cell_type": "code",
   "execution_count": 7,
   "id": "chinese-authentication",
   "metadata": {},
   "outputs": [
    {
     "name": "stdout",
     "output_type": "stream",
     "text": [
      "Introduce un número 1\n",
      "1\n",
      "1\n",
      "Introduce un número 2\n",
      "2\n",
      "3\n",
      "Introduce un número 0\n",
      "3\n"
     ]
    }
   ],
   "source": [
    "# Tu código aquí\n",
    "num = int(input(\"Introduce un número \"))\n",
    "total = 0\n",
    "while num != 0:\n",
    "    print(num)\n",
    "    total += num\n",
    "    print(total)\n",
    "    num = int(input(\"Introduce un número \"))\n",
    "print(total)"
   ]
  },
  {
   "cell_type": "markdown",
   "id": "middle-court",
   "metadata": {},
   "source": [
    "## Retocamos el 1 (while)\n",
    "Lee los números enteros del teclado, hasta que el usuario introduzca el 0. Finalmente, devuelve el mayor de los números introducidos\n"
   ]
  },
  {
   "cell_type": "code",
   "execution_count": 8,
   "id": "checked-sarah",
   "metadata": {},
   "outputs": [
    {
     "name": "stdout",
     "output_type": "stream",
     "text": [
      "Introduce un número 3\n",
      "Introduce un número 5\n",
      "Introduce un número 7\n",
      "Introduce un número 0\n",
      "7\n"
     ]
    }
   ],
   "source": [
    "num = int(input(\"Introduce un número \"))\n",
    "lista = []\n",
    "\n",
    "\n",
    "while num != 0:\n",
    "    lista.append(num)\n",
    "    num = int(input(\"Introduce un número \"))\n",
    "\n",
    "    \n",
    "      \n",
    "print(max(lista))"
   ]
  },
  {
   "cell_type": "code",
   "execution_count": 9,
   "id": "african-margin",
   "metadata": {},
   "outputs": [
    {
     "name": "stdout",
     "output_type": "stream",
     "text": [
      "Introduce un número 7\n",
      "Introduce un número 6\n",
      "Introduce un número 0\n",
      "7\n"
     ]
    }
   ],
   "source": [
    "mayor = -1\n",
    "num = int(input(\"Introduce un número \"))\n",
    "while num !=0 :\n",
    "    if num > mayor:\n",
    "        mayor = num\n",
    "    num = int(input(\"Introduce un número \"))\n",
    "print(mayor)"
   ]
  },
  {
   "cell_type": "code",
   "execution_count": 10,
   "id": "rocky-trademark",
   "metadata": {},
   "outputs": [
    {
     "name": "stdout",
     "output_type": "stream",
     "text": [
      "Introduce un número 7\n",
      "Introduce un número 0\n",
      "7\n"
     ]
    }
   ],
   "source": [
    "mayor = -1\n",
    "num = int(input(\"Introduce un número \"))\n",
    "while num !=0 :\n",
    "    mayor = max(num,mayor)\n",
    "    num = int(input(\"Introduce un número \"))\n",
    "print(mayor)"
   ]
  },
  {
   "cell_type": "markdown",
   "id": "persistent-freight",
   "metadata": {},
   "source": [
    "## Ejercicio  🚀\n",
    "Escribe un programa que pregunte al usuario por su edad y muestre todos los años que ha alcanzado (desde el 1 hasta su edad)."
   ]
  },
  {
   "cell_type": "code",
   "execution_count": 11,
   "id": "liable-origin",
   "metadata": {},
   "outputs": [
    {
     "name": "stdout",
     "output_type": "stream",
     "text": [
      "Introduce un número 7\n",
      "1\n",
      "2\n",
      "3\n",
      "4\n",
      "5\n",
      "6\n",
      "7\n"
     ]
    }
   ],
   "source": [
    "# Tu código aquí\n",
    "edad = int(input(\"Introduce un número \"))\n",
    "for num in range(1,edad+1):\n",
    "    print(num)"
   ]
  },
  {
   "cell_type": "markdown",
   "id": "handled-efficiency",
   "metadata": {},
   "source": [
    "## Ejercicio  🚀\n",
    "Escribir un programa que pida al usuario un número entero positivo y muestre por pantalla todos los números impares desde 1 hasta ese número separados por comas."
   ]
  },
  {
   "cell_type": "code",
   "execution_count": 28,
   "id": "clean-stanley",
   "metadata": {},
   "outputs": [
    {
     "name": "stdout",
     "output_type": "stream",
     "text": [
      "Introduce un número 7\n",
      "1, 3, 5, 7, "
     ]
    }
   ],
   "source": [
    "# Tu código aquí\n",
    "num = int(input(\"Introduce un número \"))\n",
    "for i in range(1,num+1,2):\n",
    "    print(i, end= \", \")"
   ]
  },
  {
   "cell_type": "code",
   "execution_count": 29,
   "id": "blocked-lawrence",
   "metadata": {},
   "outputs": [
    {
     "name": "stdout",
     "output_type": "stream",
     "text": [
      "Introduce un número 8\n",
      "1, 3, 5, 7, "
     ]
    }
   ],
   "source": [
    "num = int(input(\"Introduce un número \"))\n",
    "comienzo = 0\n",
    "for i in range(num):\n",
    "    if i % 2 != 0:\n",
    "        comienzo += 1\n",
    "        print(i, end= \", \")"
   ]
  },
  {
   "cell_type": "markdown",
   "id": "standing-binary",
   "metadata": {},
   "source": [
    "## Ejercicio  🚀\n",
    "Escribir un programa que pida al usuario una palabra y luego muestre por pantalla una a una las letras de la palabra introducida empezando por la última."
   ]
  },
  {
   "cell_type": "code",
   "execution_count": 22,
   "id": "desperate-polymer",
   "metadata": {},
   "outputs": [
    {
     "name": "stdout",
     "output_type": "stream",
     "text": [
      "Introduce aquí algo hola\n",
      "3\n",
      "a, 2\n",
      "l, 1\n",
      "o, "
     ]
    }
   ],
   "source": [
    "# Tu código aquí\n",
    "palabra = input(\"Introduce aquí algo \")\n",
    "for num in range(len(palabra)-1,-1, -1):\n",
    "    print(palabra[num], end=\", \")"
   ]
  },
  {
   "cell_type": "code",
   "execution_count": 23,
   "id": "nervous-newcastle",
   "metadata": {},
   "outputs": [
    {
     "name": "stdout",
     "output_type": "stream",
     "text": [
      "Introduce aquí algo hola\n",
      "a, l, o, h, "
     ]
    }
   ],
   "source": [
    "# Tu código aquí\n",
    "palabra = input(\"Introduce aquí algo \")\n",
    "for num in range(0,len(palabra)):\n",
    "    print(palabra[-num-1], end=\", \")"
   ]
  },
  {
   "cell_type": "code",
   "execution_count": null,
   "id": "narrative-contrary",
   "metadata": {},
   "outputs": [],
   "source": []
  }
 ],
 "metadata": {
  "kernelspec": {
   "display_name": "ironhack",
   "language": "python",
   "name": "ironhack"
  },
  "language_info": {
   "codemirror_mode": {
    "name": "ipython",
    "version": 3
   },
   "file_extension": ".py",
   "mimetype": "text/x-python",
   "name": "python",
   "nbconvert_exporter": "python",
   "pygments_lexer": "ipython3",
   "version": "3.8.5"
  },
  "toc": {
   "base_numbering": 1,
   "nav_menu": {},
   "number_sections": true,
   "sideBar": true,
   "skip_h1_title": true,
   "title_cell": "Table of Contents",
   "title_sidebar": "Contents",
   "toc_cell": false,
   "toc_position": {
    "height": "calc(100% - 180px)",
    "left": "10px",
    "top": "150px",
    "width": "288px"
   },
   "toc_section_display": true,
   "toc_window_display": false
  }
 },
 "nbformat": 4,
 "nbformat_minor": 5
}
