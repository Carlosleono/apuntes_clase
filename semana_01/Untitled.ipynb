{
 "cells": [
  {
   "cell_type": "code",
   "execution_count": 11,
   "id": "7aba5ed5",
   "metadata": {},
   "outputs": [
    {
     "name": "stdout",
     "output_type": "stream",
     "text": [
      "['Hola', 'largoo', 'que', 'dicess']\n",
      "['Hola', 'oogral', 'que', 'ssecid']\n",
      "Hola oogral que ssecid \n"
     ]
    }
   ],
   "source": [
    "sentence = 'Hola largoo que dicess'\n",
    "#cuentapalabra=0\n",
    "palabra = ''\n",
    "palabras = []\n",
    "for i in sentence:\n",
    "    #cuentapalabra += 1\n",
    "\n",
    "    if i != ' ':\n",
    "        palabra += i\n",
    "    else:\n",
    "        palabras.append(palabra)\n",
    "        palabra = ''\n",
    "palabras.append(palabra)\n",
    "print(palabras)\n",
    "indice = 0\n",
    "for i in palabras:\n",
    "    indice +=1\n",
    "    if len(i) >= 5:\n",
    "        palabras[indice-1]=i[::-1]\n",
    "resultado = ''\n",
    "print(palabras)\n",
    "for i in palabras:\n",
    "    resultado += i + ' '\n",
    "\n",
    "print(resultado)"
   ]
  },
  {
   "cell_type": "code",
   "execution_count": 21,
   "id": "5523e62f",
   "metadata": {},
   "outputs": [
    {
     "name": "stdout",
     "output_type": "stream",
     "text": [
      "11\n",
      "5\n",
      "2\n",
      "110\n",
      "1\n",
      "0\n",
      "1101\n",
      "1011\n"
     ]
    }
   ],
   "source": [
    "a,b = 1,1\n",
    "decimal = int(str(a)+str(b))\n",
    "print(decimal)\n",
    "resto = decimal\n",
    "bit=''\n",
    "while resto >=1:\n",
    "    if (resto % 2) == 0:\n",
    "        bit+= '0'\n",
    "        print(bit)\n",
    "    else:\n",
    "        bit+='1'\n",
    "    resto = resto//2\n",
    "    print(resto)\n",
    "print(bit)    \n",
    "print(bit[::-1])"
   ]
  },
  {
   "cell_type": "code",
   "execution_count": 15,
   "id": "05c37aa0",
   "metadata": {},
   "outputs": [
    {
     "name": "stdout",
     "output_type": "stream",
     "text": [
      "El area es:  78.53981633974483\n"
     ]
    }
   ],
   "source": [
    "'''\n",
    "Crear clase círculo:\n",
    "radio = variable de objeto\n",
    "pi = variable de clase\n",
    "area del objeto = metodo calcular_area\n",
    "'''\n",
    "import math as m\n",
    "\n",
    "class Circulo():\n",
    "    pi = m.pi\n",
    "    def __init__(self, radio, bonito = 'si'):\n",
    "        self.radio = radio\n",
    "    \n",
    "    def calcular_area (self):\n",
    "        #area = self.pi*(self.radio**2)\n",
    "        print('El area es: ', self.pi*(self.radio**2))\n",
    "        return self.pi*(self.radio**2)\n",
    "\n",
    "prueba = Circulo(5)\n",
    "area = prueba.calcular_area()\n"
   ]
  },
  {
   "cell_type": "code",
   "execution_count": 16,
   "id": "60feba22",
   "metadata": {},
   "outputs": [
    {
     "data": {
      "text/plain": [
       "{'radio': 5}"
      ]
     },
     "execution_count": 16,
     "metadata": {},
     "output_type": "execute_result"
    }
   ],
   "source": [
    "prueba.__dict__"
   ]
  },
  {
   "cell_type": "code",
   "execution_count": 17,
   "id": "b74a3ad1",
   "metadata": {},
   "outputs": [],
   "source": [
    "class Elipse(Circulo):\n",
    "    def __init__(self, radio, bonito, bueno):\n",
    "        super().__init__(radio, bonito)\n",
    "        self.bueno = bueno\n",
    "            "
   ]
  },
  {
   "cell_type": "code",
   "execution_count": 19,
   "id": "c0c00e1b",
   "metadata": {},
   "outputs": [
    {
     "ename": "SyntaxError",
     "evalue": "invalid syntax (<ipython-input-19-ca4f582aa881>, line 1)",
     "output_type": "error",
     "traceback": [
      "\u001b[0;36m  File \u001b[0;32m\"<ipython-input-19-ca4f582aa881>\"\u001b[0;36m, line \u001b[0;32m1\u001b[0m\n\u001b[0;31m    ejemplo = Elipse(5,,'bueno')\u001b[0m\n\u001b[0m                       ^\u001b[0m\n\u001b[0;31mSyntaxError\u001b[0m\u001b[0;31m:\u001b[0m invalid syntax\n"
     ]
    }
   ],
   "source": [
    "ejemplo = Elipse(5,,'bueno')"
   ]
  },
  {
   "cell_type": "code",
   "execution_count": 39,
   "id": "d9e2fc73",
   "metadata": {},
   "outputs": [],
   "source": [
    "def sum_two_smallest_numbers(numbers):\n",
    "    #your code here\n",
    "    ordenados= numbers.sort()\n",
    "    print(ordenados)\n",
    "    peques= ordenados[0:2]\n",
    "   \n",
    "    return sum(peques)"
   ]
  },
  {
   "cell_type": "code",
   "execution_count": 40,
   "id": "b53ee34c",
   "metadata": {},
   "outputs": [
    {
     "name": "stdout",
     "output_type": "stream",
     "text": [
      "None\n"
     ]
    },
    {
     "ename": "TypeError",
     "evalue": "'NoneType' object is not subscriptable",
     "output_type": "error",
     "traceback": [
      "\u001b[0;31m---------------------------------------------------------------------------\u001b[0m",
      "\u001b[0;31mTypeError\u001b[0m                                 Traceback (most recent call last)",
      "\u001b[0;32m<ipython-input-40-c7ccaad3647f>\u001b[0m in \u001b[0;36m<module>\u001b[0;34m\u001b[0m\n\u001b[1;32m      1\u001b[0m \u001b[0mlista\u001b[0m\u001b[0;34m=\u001b[0m\u001b[0;34m[\u001b[0m\u001b[0;36m10\u001b[0m\u001b[0;34m,\u001b[0m \u001b[0;36m343445353\u001b[0m\u001b[0;34m,\u001b[0m \u001b[0;36m3453445\u001b[0m\u001b[0;34m,\u001b[0m \u001b[0;36m3453545353453\u001b[0m\u001b[0;34m]\u001b[0m\u001b[0;34m\u001b[0m\u001b[0;34m\u001b[0m\u001b[0m\n\u001b[0;32m----> 2\u001b[0;31m \u001b[0msum_two_smallest_numbers\u001b[0m\u001b[0;34m(\u001b[0m\u001b[0mlista\u001b[0m\u001b[0;34m)\u001b[0m\u001b[0;34m\u001b[0m\u001b[0;34m\u001b[0m\u001b[0m\n\u001b[0m",
      "\u001b[0;32m<ipython-input-39-543d16911077>\u001b[0m in \u001b[0;36msum_two_smallest_numbers\u001b[0;34m(numbers)\u001b[0m\n\u001b[1;32m      3\u001b[0m     \u001b[0mordenados\u001b[0m\u001b[0;34m=\u001b[0m \u001b[0mnumbers\u001b[0m\u001b[0;34m.\u001b[0m\u001b[0msort\u001b[0m\u001b[0;34m(\u001b[0m\u001b[0;34m)\u001b[0m\u001b[0;34m\u001b[0m\u001b[0;34m\u001b[0m\u001b[0m\n\u001b[1;32m      4\u001b[0m     \u001b[0mprint\u001b[0m\u001b[0;34m(\u001b[0m\u001b[0mordenados\u001b[0m\u001b[0;34m)\u001b[0m\u001b[0;34m\u001b[0m\u001b[0;34m\u001b[0m\u001b[0m\n\u001b[0;32m----> 5\u001b[0;31m     \u001b[0mpeques\u001b[0m\u001b[0;34m=\u001b[0m \u001b[0mordenados\u001b[0m\u001b[0;34m[\u001b[0m\u001b[0;36m0\u001b[0m\u001b[0;34m:\u001b[0m\u001b[0;36m2\u001b[0m\u001b[0;34m]\u001b[0m\u001b[0;34m\u001b[0m\u001b[0;34m\u001b[0m\u001b[0m\n\u001b[0m\u001b[1;32m      6\u001b[0m \u001b[0;34m\u001b[0m\u001b[0m\n\u001b[1;32m      7\u001b[0m     \u001b[0;32mreturn\u001b[0m \u001b[0msum\u001b[0m\u001b[0;34m(\u001b[0m\u001b[0mpeques\u001b[0m\u001b[0;34m)\u001b[0m\u001b[0;34m\u001b[0m\u001b[0;34m\u001b[0m\u001b[0m\n",
      "\u001b[0;31mTypeError\u001b[0m: 'NoneType' object is not subscriptable"
     ]
    }
   ],
   "source": [
    "lista=[10, 343445353, 3453445, 3453545353453]\n",
    "sum_two_smallest_numbers(lista)"
   ]
  },
  {
   "cell_type": "code",
   "execution_count": 48,
   "id": "3518a87d",
   "metadata": {},
   "outputs": [
    {
     "name": "stdout",
     "output_type": "stream",
     "text": [
      "[10, 3453445, 343445353, 3453545353453]\n",
      "3453455\n"
     ]
    }
   ],
   "source": [
    "ordes=sorted(lista)\n",
    "print(ordes)\n",
    "print(sum(ordes[0:2]))"
   ]
  },
  {
   "cell_type": "code",
   "execution_count": 58,
   "id": "2ae3b114",
   "metadata": {},
   "outputs": [
    {
     "data": {
      "text/plain": [
       "{'a',\n",
       " 'b',\n",
       " 'c',\n",
       " 'd',\n",
       " 'e',\n",
       " 'f',\n",
       " 'i',\n",
       " 'j',\n",
       " 'k',\n",
       " 'm',\n",
       " 'n',\n",
       " 'o',\n",
       " 'r',\n",
       " 's',\n",
       " 'u',\n",
       " 'w'}"
      ]
     },
     "execution_count": 58,
     "metadata": {},
     "output_type": "execute_result"
    }
   ],
   "source": [
    "a1= 'adweferfcsdwr'\n",
    "a2='dferferjijokmkjnub'\n",
    "\n",
    "set(sorted(a1+a2))\n",
    "#[i for i in set(sorted(a1+a2))]"
   ]
  },
  {
   "cell_type": "code",
   "execution_count": 59,
   "id": "b133f82c",
   "metadata": {},
   "outputs": [],
   "source": [
    "class Soldier:\n",
    "    def __init__(self,health,strength):\n",
    "        self.health = health\n",
    "        self.strength = strength\n",
    "    \n",
    "    def attack(self):\n",
    "        return self.strength\n",
    "    \n",
    "    def receiveDamage(self, damage):\n",
    "        \n",
    "        self.health -= damage"
   ]
  },
  {
   "cell_type": "code",
   "execution_count": 71,
   "id": "28d173f0",
   "metadata": {},
   "outputs": [
    {
     "ename": "SyntaxError",
     "evalue": "invalid syntax (<ipython-input-71-5ce5dd5f9271>, line 11)",
     "output_type": "error",
     "traceback": [
      "\u001b[0;36m  File \u001b[0;32m\"<ipython-input-71-5ce5dd5f9271>\"\u001b[0;36m, line \u001b[0;32m11\u001b[0m\n\u001b[0;31m    self.health -= damage\u001b[0m\n\u001b[0m    ^\u001b[0m\n\u001b[0;31mSyntaxError\u001b[0m\u001b[0;31m:\u001b[0m invalid syntax\n"
     ]
    }
   ],
   "source": [
    "class Viking(Soldier):\n",
    "    def __init__(self,name,health,strength):\n",
    "        self.health = health\n",
    "        self.strength = strength\n",
    "        self.name = name\n",
    "        \n",
    "    \n",
    "    def receiveDamage(self, damage):\n",
    "        printtype(self.health)\n",
    "        print(type(damage)\n",
    "        self.health -= damage\n",
    "        print(self.health)\n",
    "        if self.health >= 0:\n",
    "            \n",
    "            return  f'{self.name} has received {damage}  points of damage'\n",
    "        else:\n",
    "            return f'{self.name} has died in act of combat'\n",
    "    \n",
    "    def battleCry(self):\n",
    "        return 'Odin Owns You All!'"
   ]
  },
  {
   "cell_type": "code",
   "execution_count": 72,
   "id": "37ddf0a6",
   "metadata": {},
   "outputs": [
    {
     "name": "stdout",
     "output_type": "stream",
     "text": [
      "150\n",
      "50\n"
     ]
    },
    {
     "ename": "TypeError",
     "evalue": "unsupported operand type(s) for -=: 'str' and 'int'",
     "output_type": "error",
     "traceback": [
      "\u001b[0;31m---------------------------------------------------------------------------\u001b[0m",
      "\u001b[0;31mTypeError\u001b[0m                                 Traceback (most recent call last)",
      "\u001b[0;32m<ipython-input-72-3b863e9e0ccc>\u001b[0m in \u001b[0;36m<module>\u001b[0;34m\u001b[0m\n\u001b[1;32m      1\u001b[0m \u001b[0mpedro\u001b[0m \u001b[0;34m=\u001b[0m \u001b[0mViking\u001b[0m\u001b[0;34m(\u001b[0m\u001b[0;34m'Harald'\u001b[0m\u001b[0;34m,\u001b[0m\u001b[0;34m'150'\u001b[0m\u001b[0;34m,\u001b[0m\u001b[0;34m'300'\u001b[0m\u001b[0;34m)\u001b[0m\u001b[0;34m\u001b[0m\u001b[0;34m\u001b[0m\u001b[0m\n\u001b[0;32m----> 2\u001b[0;31m \u001b[0mpedro\u001b[0m\u001b[0;34m.\u001b[0m\u001b[0mreceiveDamage\u001b[0m\u001b[0;34m(\u001b[0m\u001b[0;36m50\u001b[0m\u001b[0;34m)\u001b[0m\u001b[0;34m\u001b[0m\u001b[0;34m\u001b[0m\u001b[0m\n\u001b[0m",
      "\u001b[0;32m<ipython-input-64-9bc4a63e6a8d>\u001b[0m in \u001b[0;36mreceiveDamage\u001b[0;34m(self, damage)\u001b[0m\n\u001b[1;32m      7\u001b[0m         \u001b[0mprint\u001b[0m\u001b[0;34m(\u001b[0m\u001b[0mself\u001b[0m\u001b[0;34m.\u001b[0m\u001b[0mhealth\u001b[0m\u001b[0;34m)\u001b[0m\u001b[0;34m\u001b[0m\u001b[0;34m\u001b[0m\u001b[0m\n\u001b[1;32m      8\u001b[0m         \u001b[0mprint\u001b[0m\u001b[0;34m(\u001b[0m\u001b[0mdamage\u001b[0m\u001b[0;34m)\u001b[0m\u001b[0;34m\u001b[0m\u001b[0;34m\u001b[0m\u001b[0m\n\u001b[0;32m----> 9\u001b[0;31m         \u001b[0mself\u001b[0m\u001b[0;34m.\u001b[0m\u001b[0mhealth\u001b[0m \u001b[0;34m-=\u001b[0m \u001b[0mdamage\u001b[0m\u001b[0;34m\u001b[0m\u001b[0;34m\u001b[0m\u001b[0m\n\u001b[0m\u001b[1;32m     10\u001b[0m         \u001b[0;32mif\u001b[0m \u001b[0mself\u001b[0m\u001b[0;34m.\u001b[0m\u001b[0mhealth\u001b[0m \u001b[0;34m>=\u001b[0m \u001b[0;36m0\u001b[0m\u001b[0;34m:\u001b[0m\u001b[0;34m\u001b[0m\u001b[0;34m\u001b[0m\u001b[0m\n\u001b[1;32m     11\u001b[0m             \u001b[0mmensaje\u001b[0m \u001b[0;34m=\u001b[0m \u001b[0mprint\u001b[0m\u001b[0;34m(\u001b[0m\u001b[0;34mf'{self.name} has received {damage}  points of damage'\u001b[0m\u001b[0;34m)\u001b[0m\u001b[0;34m\u001b[0m\u001b[0;34m\u001b[0m\u001b[0m\n",
      "\u001b[0;31mTypeError\u001b[0m: unsupported operand type(s) for -=: 'str' and 'int'"
     ]
    }
   ],
   "source": [
    "pedro = Viking('Harald','150','300')\n",
    "pedro.receiveDamage(50)"
   ]
  },
  {
   "cell_type": "code",
   "execution_count": 97,
   "id": "49973715",
   "metadata": {},
   "outputs": [
    {
     "data": {
      "text/plain": [
       "'dfef'"
      ]
     },
     "execution_count": 97,
     "metadata": {},
     "output_type": "execute_result"
    }
   ],
   "source": [
    "import random\n",
    "prueba = ['Harald','150','300',3,53,'dfef']\n",
    "\n",
    "random.choice(prueba)"
   ]
  },
  {
   "cell_type": "code",
   "execution_count": 114,
   "id": "c7fe60c0",
   "metadata": {},
   "outputs": [
    {
     "data": {
      "text/plain": [
       "1"
      ]
     },
     "execution_count": 114,
     "metadata": {},
     "output_type": "execute_result"
    }
   ],
   "source": [
    "random.choice(range(1,7))"
   ]
  }
 ],
 "metadata": {
  "kernelspec": {
   "display_name": "ironhack",
   "language": "python",
   "name": "ironhack"
  },
  "language_info": {
   "codemirror_mode": {
    "name": "ipython",
    "version": 3
   },
   "file_extension": ".py",
   "mimetype": "text/x-python",
   "name": "python",
   "nbconvert_exporter": "python",
   "pygments_lexer": "ipython3",
   "version": "3.8.8"
  }
 },
 "nbformat": 4,
 "nbformat_minor": 5
}
